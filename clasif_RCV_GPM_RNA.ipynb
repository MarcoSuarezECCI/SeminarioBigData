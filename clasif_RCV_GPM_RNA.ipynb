{
  "cells": [
    {
      "cell_type": "markdown",
      "metadata": {
        "id": "view-in-github",
        "colab_type": "text"
      },
      "source": [
        "<a href=\"https://colab.research.google.com/github/MarcoSuarezECCI/SeminarioBigData/blob/main/clasif_RCV_GPM_RNA.ipynb\" target=\"_parent\"><img src=\"https://colab.research.google.com/assets/colab-badge.svg\" alt=\"Open In Colab\"/></a>"
      ]
    },
    {
      "cell_type": "markdown",
      "id": "inappropriate-farmer",
      "metadata": {
        "id": "inappropriate-farmer"
      },
      "source": [
        "# Redes Neuronales Artificiales Para Predecir Riesgo Cardiovascular\n",
        "\n",
        "**Autor: Elias Buitrago B.**\\\n",
        "Bogotá, Colombia \\\n",
        "Actualizado: 18 oct 2023 \\\n",
        "_Nota: Código ajustado para su ejecución en Google Colaboratory_\\\n",
        "Verificado con las siguientes versiones: Python 3.10.12, Tensorflow: 2.13.0, Keras: 2.13.1_"
      ]
    },
    {
      "cell_type": "markdown",
      "id": "adapted-handle",
      "metadata": {
        "id": "adapted-handle"
      },
      "source": [
        "## Cargar librerías\n",
        "The Python programming language relies on specialized code libraries for various functionalities. For example, if we want to graph we can invoke (call, load) a specialized library such as matplotlib. This packaging of code with concrete functions and the like is similar to what R software does with packages. Next, the libraries required for the correct training of multilayer perceptron neural networks are imported. The specialized libraries specifically for training neural networks to predict cardiovascular risk are TensorFlow (_version 2.13.0_) and Keras (_version 2.13.1_).\n",
        "\n",
        "<!-- El lenguaje de programación python se apoya en librerías de código especializadas en diversas funcionalidades. Por ejemplo, si queremos graficar podemos invocar (llamar, cargar) una librerías especilizada como matplotlib. ESte empaquetamiento de código con funciones concretas y similares, se asemeja a los que hace el software R con los paquetes. A continuación, se importan las librerías requeridas para el correcto entrenamiento de redes neuronales del tipo perceptrón multicapa. Las librerías especializadas, específicamente para entrenar las redes neuronales para predecri riesgo cardiovascular son las siguientes TensorFlow (_versión 2.13.0_) y Keras (_versión 2.13.1_). -->"
      ]
    },
    {
      "cell_type": "code",
      "execution_count": 54,
      "id": "cardiovascular-satin",
      "metadata": {
        "id": "cardiovascular-satin"
      },
      "outputs": [],
      "source": [
        "# Librerías básicas de Python\n",
        "import numpy as np\n",
        "import pandas as pd\n",
        "import matplotlib.pyplot as plt\n",
        "\n",
        "# Librería para calcular tiempo de ejecución\n",
        "from time import process_time\n",
        "\n",
        "# Librerías para particionar conjunto de datos\n",
        "from sklearn.preprocessing import StandardScaler\n",
        "from sklearn.model_selection import train_test_split as split\n",
        "\n",
        "# Funciones requeridas de la librerías que permite entrenar redes neuronales\n",
        "# artificiales\n",
        "from tensorflow.keras import models\n",
        "from tensorflow.keras.layers import Dense\n",
        "from tensorflow.keras import optimizers\n",
        "from tensorflow.keras import utils as np_utils\n",
        "\n",
        "# Funciones requeridas de la librería para evaluar desempeño de la RNA\n",
        "from sklearn.metrics import roc_curve, roc_auc_score\n",
        "from sklearn.metrics import classification_report, confusion_matrix"
      ]
    },
    {
      "cell_type": "markdown",
      "source": [
        "## Verificación de versiones de librerías\n",
        "De manera rutinaria se recomienda hacer la verificación de la versión actual de las versiones de Python, TensorFlow y Keras. Por lo tanto a continuación se mnuestran las lineas de código para verificar las versiones de dichas librerías, incluyendo la versión del sistema operativo. Google Colaboratory se ejecuta sobre un sistema operatio Linux distribución Ubuntu,"
      ],
      "metadata": {
        "id": "foKFuPu-R0To"
      },
      "id": "foKFuPu-R0To"
    },
    {
      "cell_type": "code",
      "source": [
        "import tensorflow\n",
        "import keras\n",
        "print(\"El sistema operativo base de Google Colaboratory es: \")\n",
        "!lsb_release -a\n",
        "print(\"La versión actual de Python es: \")\n",
        "!python --version\n",
        "print(\"La versión instalada de Tensorflow es: \" + tensorflow.__version__)\n",
        "print(\"La versión instalada de Keras es: \" + keras.__version__)"
      ],
      "metadata": {
        "colab": {
          "base_uri": "https://localhost:8080/"
        },
        "id": "iJ-XtMkY7Y4h",
        "outputId": "e0389ccb-c589-45fd-97a5-7b3816f29160"
      },
      "id": "iJ-XtMkY7Y4h",
      "execution_count": 55,
      "outputs": [
        {
          "output_type": "stream",
          "name": "stdout",
          "text": [
            "El sistema operativo base de Google Colaboratory es: \n",
            "No LSB modules are available.\n",
            "Distributor ID:\tUbuntu\n",
            "Description:\tUbuntu 22.04.3 LTS\n",
            "Release:\t22.04\n",
            "Codename:\tjammy\n",
            "La versión actual de Python es: \n",
            "Python 3.10.12\n",
            "La versión instalada de Tensorflow es: 2.15.0\n",
            "La versión instalada de Keras es: 2.15.0\n"
          ]
        }
      ]
    },
    {
      "cell_type": "markdown",
      "id": "nasty-transparency",
      "metadata": {
        "id": "nasty-transparency"
      },
      "source": [
        "## Cargar datos\n",
        "En el contexto del presente taller, los datos que se utilizan para el entrenamiento, evaluación y validación se almacenan en un directorio de Google Drive del mismo usuario actual de Google Colaboratory. Para acceder a los datos solo se requiere ejecutar la primera celda de código de esta sección, luego brindar los permisos de acceo respectivo y, finalmente, cambiar la ruta de acceso al archivo de los datos."
      ]
    },
    {
      "cell_type": "code",
      "source": [
        "from google.colab import drive\n",
        "drive.mount('/content/drive')"
      ],
      "metadata": {
        "id": "9LuuavIPie6Z",
        "colab": {
          "base_uri": "https://localhost:8080/"
        },
        "outputId": "65f9e019-8b26-42c6-fcc7-5acfb93d52bc"
      },
      "id": "9LuuavIPie6Z",
      "execution_count": 56,
      "outputs": [
        {
          "output_type": "stream",
          "name": "stdout",
          "text": [
            "Drive already mounted at /content/drive; to attempt to forcibly remount, call drive.mount(\"/content/drive\", force_remount=True).\n"
          ]
        }
      ]
    },
    {
      "cell_type": "code",
      "execution_count": 57,
      "id": "applicable-darkness",
      "metadata": {
        "id": "applicable-darkness"
      },
      "outputs": [],
      "source": [
        "#/content/drive/MyDrive/data/pacientes_rcv_limpio.xlsx\n",
        "data = pd.read_excel(\"/content/drive/MyDrive/data/pacientes_rcv_limpio.xlsx\")\n",
        "target = data.loc[:, 'Clasificación de RCV Global'].astype(int)\n",
        "data = data.drop(['Clasificación de RCV Global'], axis=1)\n",
        "target=pd.Categorical(target).codes"
      ]
    },
    {
      "cell_type": "code",
      "source": [
        "print(data.shape)\n",
        "data.head()"
      ],
      "metadata": {
        "id": "-NPpefeF2L9D",
        "colab": {
          "base_uri": "https://localhost:8080/",
          "height": 305
        },
        "outputId": "d0d69017-a997-4b58-a6ba-ee62237df2d0"
      },
      "id": "-NPpefeF2L9D",
      "execution_count": 58,
      "outputs": [
        {
          "output_type": "stream",
          "name": "stdout",
          "text": [
            "(3000, 35)\n"
          ]
        },
        {
          "output_type": "execute_result",
          "data": {
            "text/plain": [
              "   Edad (años)  Genero  Zona  Fumador Activo  ¿Diabetes?  \\\n",
              "0           82       2     1               1           1   \n",
              "1           83       2     1               1           1   \n",
              "2           54       2     1               1           1   \n",
              "3           68       2     1               1           1   \n",
              "4           68       2     1               1           2   \n",
              "\n",
              "   Hipertensión Arterial Sistemica  HTA + DM  \\\n",
              "0                                2         1   \n",
              "1                                2         1   \n",
              "2                                1         1   \n",
              "3                                1         1   \n",
              "4                                1         1   \n",
              "\n",
              "   Clasificacion de Diabetes o del ultimo estado de Glicemia  \\\n",
              "0                                                0.0           \n",
              "1                                                0.0           \n",
              "2                                                0.0           \n",
              "3                                                0.0           \n",
              "4                                                2.0           \n",
              "\n",
              "   Complicaciones  y Lesiones en Organo Blanco  \\\n",
              "0                                            1   \n",
              "1                                            1   \n",
              "2                                            1   \n",
              "3                                            1   \n",
              "4                                            1   \n",
              "\n",
              "   Antecedentes_Fliar_Enfermedad_Coronaria  ...  Creatinina  \\\n",
              "0                                        1  ...       132.0   \n",
              "1                                        1  ...        97.0   \n",
              "2                                        1  ...        97.0   \n",
              "3                                        1  ...        86.0   \n",
              "4                                        1  ...        71.0   \n",
              "\n",
              "   Factor de corrección de la formula  Proteinuria  \\\n",
              "0                                  85          0.0   \n",
              "1                                  85          0.0   \n",
              "2                                  85          0.0   \n",
              "3                                  85          0.0   \n",
              "4                                  85          0.0   \n",
              "\n",
              "   Calculo de  TFG corregida (Cockcroft-Gault)  Estadio IRC  \\\n",
              "0                                    37.348485          3.0   \n",
              "1                                    33.000000          3.0   \n",
              "2                                    51.000000          3.0   \n",
              "3                                    53.372093          3.0   \n",
              "4                                    68.239437          2.0   \n",
              "\n",
              "   Remisiones Especialidad  Farmacos  Antihipertensivos  Estatina  \\\n",
              "0                      1.0                          1.0         0   \n",
              "1                      1.0                          2.0         0   \n",
              "2                      1.0                          3.0         0   \n",
              "3                      1.0                          1.0         0   \n",
              "4                      1.0                          2.0         0   \n",
              "\n",
              "   Antidiabeticos  Adherencia al tratamiento  \n",
              "0             2.0                        1.0  \n",
              "1             0.0                        1.0  \n",
              "2             0.0                        1.0  \n",
              "3             0.0                        1.0  \n",
              "4             3.0                        1.0  \n",
              "\n",
              "[5 rows x 35 columns]"
            ],
            "text/html": [
              "\n",
              "  <div id=\"df-2bd1b4d2-9286-41e1-9c64-7c9397a52dfd\" class=\"colab-df-container\">\n",
              "    <div>\n",
              "<style scoped>\n",
              "    .dataframe tbody tr th:only-of-type {\n",
              "        vertical-align: middle;\n",
              "    }\n",
              "\n",
              "    .dataframe tbody tr th {\n",
              "        vertical-align: top;\n",
              "    }\n",
              "\n",
              "    .dataframe thead th {\n",
              "        text-align: right;\n",
              "    }\n",
              "</style>\n",
              "<table border=\"1\" class=\"dataframe\">\n",
              "  <thead>\n",
              "    <tr style=\"text-align: right;\">\n",
              "      <th></th>\n",
              "      <th>Edad (años)</th>\n",
              "      <th>Genero</th>\n",
              "      <th>Zona</th>\n",
              "      <th>Fumador Activo</th>\n",
              "      <th>¿Diabetes?</th>\n",
              "      <th>Hipertensión Arterial Sistemica</th>\n",
              "      <th>HTA + DM</th>\n",
              "      <th>Clasificacion de Diabetes o del ultimo estado de Glicemia</th>\n",
              "      <th>Complicaciones  y Lesiones en Organo Blanco</th>\n",
              "      <th>Antecedentes_Fliar_Enfermedad_Coronaria</th>\n",
              "      <th>...</th>\n",
              "      <th>Creatinina</th>\n",
              "      <th>Factor de corrección de la formula</th>\n",
              "      <th>Proteinuria</th>\n",
              "      <th>Calculo de  TFG corregida (Cockcroft-Gault)</th>\n",
              "      <th>Estadio IRC</th>\n",
              "      <th>Remisiones Especialidad</th>\n",
              "      <th>Farmacos  Antihipertensivos</th>\n",
              "      <th>Estatina</th>\n",
              "      <th>Antidiabeticos</th>\n",
              "      <th>Adherencia al tratamiento</th>\n",
              "    </tr>\n",
              "  </thead>\n",
              "  <tbody>\n",
              "    <tr>\n",
              "      <th>0</th>\n",
              "      <td>82</td>\n",
              "      <td>2</td>\n",
              "      <td>1</td>\n",
              "      <td>1</td>\n",
              "      <td>1</td>\n",
              "      <td>2</td>\n",
              "      <td>1</td>\n",
              "      <td>0.0</td>\n",
              "      <td>1</td>\n",
              "      <td>1</td>\n",
              "      <td>...</td>\n",
              "      <td>132.0</td>\n",
              "      <td>85</td>\n",
              "      <td>0.0</td>\n",
              "      <td>37.348485</td>\n",
              "      <td>3.0</td>\n",
              "      <td>1.0</td>\n",
              "      <td>1.0</td>\n",
              "      <td>0</td>\n",
              "      <td>2.0</td>\n",
              "      <td>1.0</td>\n",
              "    </tr>\n",
              "    <tr>\n",
              "      <th>1</th>\n",
              "      <td>83</td>\n",
              "      <td>2</td>\n",
              "      <td>1</td>\n",
              "      <td>1</td>\n",
              "      <td>1</td>\n",
              "      <td>2</td>\n",
              "      <td>1</td>\n",
              "      <td>0.0</td>\n",
              "      <td>1</td>\n",
              "      <td>1</td>\n",
              "      <td>...</td>\n",
              "      <td>97.0</td>\n",
              "      <td>85</td>\n",
              "      <td>0.0</td>\n",
              "      <td>33.000000</td>\n",
              "      <td>3.0</td>\n",
              "      <td>1.0</td>\n",
              "      <td>2.0</td>\n",
              "      <td>0</td>\n",
              "      <td>0.0</td>\n",
              "      <td>1.0</td>\n",
              "    </tr>\n",
              "    <tr>\n",
              "      <th>2</th>\n",
              "      <td>54</td>\n",
              "      <td>2</td>\n",
              "      <td>1</td>\n",
              "      <td>1</td>\n",
              "      <td>1</td>\n",
              "      <td>1</td>\n",
              "      <td>1</td>\n",
              "      <td>0.0</td>\n",
              "      <td>1</td>\n",
              "      <td>1</td>\n",
              "      <td>...</td>\n",
              "      <td>97.0</td>\n",
              "      <td>85</td>\n",
              "      <td>0.0</td>\n",
              "      <td>51.000000</td>\n",
              "      <td>3.0</td>\n",
              "      <td>1.0</td>\n",
              "      <td>3.0</td>\n",
              "      <td>0</td>\n",
              "      <td>0.0</td>\n",
              "      <td>1.0</td>\n",
              "    </tr>\n",
              "    <tr>\n",
              "      <th>3</th>\n",
              "      <td>68</td>\n",
              "      <td>2</td>\n",
              "      <td>1</td>\n",
              "      <td>1</td>\n",
              "      <td>1</td>\n",
              "      <td>1</td>\n",
              "      <td>1</td>\n",
              "      <td>0.0</td>\n",
              "      <td>1</td>\n",
              "      <td>1</td>\n",
              "      <td>...</td>\n",
              "      <td>86.0</td>\n",
              "      <td>85</td>\n",
              "      <td>0.0</td>\n",
              "      <td>53.372093</td>\n",
              "      <td>3.0</td>\n",
              "      <td>1.0</td>\n",
              "      <td>1.0</td>\n",
              "      <td>0</td>\n",
              "      <td>0.0</td>\n",
              "      <td>1.0</td>\n",
              "    </tr>\n",
              "    <tr>\n",
              "      <th>4</th>\n",
              "      <td>68</td>\n",
              "      <td>2</td>\n",
              "      <td>1</td>\n",
              "      <td>1</td>\n",
              "      <td>2</td>\n",
              "      <td>1</td>\n",
              "      <td>1</td>\n",
              "      <td>2.0</td>\n",
              "      <td>1</td>\n",
              "      <td>1</td>\n",
              "      <td>...</td>\n",
              "      <td>71.0</td>\n",
              "      <td>85</td>\n",
              "      <td>0.0</td>\n",
              "      <td>68.239437</td>\n",
              "      <td>2.0</td>\n",
              "      <td>1.0</td>\n",
              "      <td>2.0</td>\n",
              "      <td>0</td>\n",
              "      <td>3.0</td>\n",
              "      <td>1.0</td>\n",
              "    </tr>\n",
              "  </tbody>\n",
              "</table>\n",
              "<p>5 rows × 35 columns</p>\n",
              "</div>\n",
              "    <div class=\"colab-df-buttons\">\n",
              "\n",
              "  <div class=\"colab-df-container\">\n",
              "    <button class=\"colab-df-convert\" onclick=\"convertToInteractive('df-2bd1b4d2-9286-41e1-9c64-7c9397a52dfd')\"\n",
              "            title=\"Convert this dataframe to an interactive table.\"\n",
              "            style=\"display:none;\">\n",
              "\n",
              "  <svg xmlns=\"http://www.w3.org/2000/svg\" height=\"24px\" viewBox=\"0 -960 960 960\">\n",
              "    <path d=\"M120-120v-720h720v720H120Zm60-500h600v-160H180v160Zm220 220h160v-160H400v160Zm0 220h160v-160H400v160ZM180-400h160v-160H180v160Zm440 0h160v-160H620v160ZM180-180h160v-160H180v160Zm440 0h160v-160H620v160Z\"/>\n",
              "  </svg>\n",
              "    </button>\n",
              "\n",
              "  <style>\n",
              "    .colab-df-container {\n",
              "      display:flex;\n",
              "      gap: 12px;\n",
              "    }\n",
              "\n",
              "    .colab-df-convert {\n",
              "      background-color: #E8F0FE;\n",
              "      border: none;\n",
              "      border-radius: 50%;\n",
              "      cursor: pointer;\n",
              "      display: none;\n",
              "      fill: #1967D2;\n",
              "      height: 32px;\n",
              "      padding: 0 0 0 0;\n",
              "      width: 32px;\n",
              "    }\n",
              "\n",
              "    .colab-df-convert:hover {\n",
              "      background-color: #E2EBFA;\n",
              "      box-shadow: 0px 1px 2px rgba(60, 64, 67, 0.3), 0px 1px 3px 1px rgba(60, 64, 67, 0.15);\n",
              "      fill: #174EA6;\n",
              "    }\n",
              "\n",
              "    .colab-df-buttons div {\n",
              "      margin-bottom: 4px;\n",
              "    }\n",
              "\n",
              "    [theme=dark] .colab-df-convert {\n",
              "      background-color: #3B4455;\n",
              "      fill: #D2E3FC;\n",
              "    }\n",
              "\n",
              "    [theme=dark] .colab-df-convert:hover {\n",
              "      background-color: #434B5C;\n",
              "      box-shadow: 0px 1px 3px 1px rgba(0, 0, 0, 0.15);\n",
              "      filter: drop-shadow(0px 1px 2px rgba(0, 0, 0, 0.3));\n",
              "      fill: #FFFFFF;\n",
              "    }\n",
              "  </style>\n",
              "\n",
              "    <script>\n",
              "      const buttonEl =\n",
              "        document.querySelector('#df-2bd1b4d2-9286-41e1-9c64-7c9397a52dfd button.colab-df-convert');\n",
              "      buttonEl.style.display =\n",
              "        google.colab.kernel.accessAllowed ? 'block' : 'none';\n",
              "\n",
              "      async function convertToInteractive(key) {\n",
              "        const element = document.querySelector('#df-2bd1b4d2-9286-41e1-9c64-7c9397a52dfd');\n",
              "        const dataTable =\n",
              "          await google.colab.kernel.invokeFunction('convertToInteractive',\n",
              "                                                    [key], {});\n",
              "        if (!dataTable) return;\n",
              "\n",
              "        const docLinkHtml = 'Like what you see? Visit the ' +\n",
              "          '<a target=\"_blank\" href=https://colab.research.google.com/notebooks/data_table.ipynb>data table notebook</a>'\n",
              "          + ' to learn more about interactive tables.';\n",
              "        element.innerHTML = '';\n",
              "        dataTable['output_type'] = 'display_data';\n",
              "        await google.colab.output.renderOutput(dataTable, element);\n",
              "        const docLink = document.createElement('div');\n",
              "        docLink.innerHTML = docLinkHtml;\n",
              "        element.appendChild(docLink);\n",
              "      }\n",
              "    </script>\n",
              "  </div>\n",
              "\n",
              "\n",
              "<div id=\"df-ceef5d16-caae-4b1a-8c07-bf64ecf4d603\">\n",
              "  <button class=\"colab-df-quickchart\" onclick=\"quickchart('df-ceef5d16-caae-4b1a-8c07-bf64ecf4d603')\"\n",
              "            title=\"Suggest charts\"\n",
              "            style=\"display:none;\">\n",
              "\n",
              "<svg xmlns=\"http://www.w3.org/2000/svg\" height=\"24px\"viewBox=\"0 0 24 24\"\n",
              "     width=\"24px\">\n",
              "    <g>\n",
              "        <path d=\"M19 3H5c-1.1 0-2 .9-2 2v14c0 1.1.9 2 2 2h14c1.1 0 2-.9 2-2V5c0-1.1-.9-2-2-2zM9 17H7v-7h2v7zm4 0h-2V7h2v10zm4 0h-2v-4h2v4z\"/>\n",
              "    </g>\n",
              "</svg>\n",
              "  </button>\n",
              "\n",
              "<style>\n",
              "  .colab-df-quickchart {\n",
              "      --bg-color: #E8F0FE;\n",
              "      --fill-color: #1967D2;\n",
              "      --hover-bg-color: #E2EBFA;\n",
              "      --hover-fill-color: #174EA6;\n",
              "      --disabled-fill-color: #AAA;\n",
              "      --disabled-bg-color: #DDD;\n",
              "  }\n",
              "\n",
              "  [theme=dark] .colab-df-quickchart {\n",
              "      --bg-color: #3B4455;\n",
              "      --fill-color: #D2E3FC;\n",
              "      --hover-bg-color: #434B5C;\n",
              "      --hover-fill-color: #FFFFFF;\n",
              "      --disabled-bg-color: #3B4455;\n",
              "      --disabled-fill-color: #666;\n",
              "  }\n",
              "\n",
              "  .colab-df-quickchart {\n",
              "    background-color: var(--bg-color);\n",
              "    border: none;\n",
              "    border-radius: 50%;\n",
              "    cursor: pointer;\n",
              "    display: none;\n",
              "    fill: var(--fill-color);\n",
              "    height: 32px;\n",
              "    padding: 0;\n",
              "    width: 32px;\n",
              "  }\n",
              "\n",
              "  .colab-df-quickchart:hover {\n",
              "    background-color: var(--hover-bg-color);\n",
              "    box-shadow: 0 1px 2px rgba(60, 64, 67, 0.3), 0 1px 3px 1px rgba(60, 64, 67, 0.15);\n",
              "    fill: var(--button-hover-fill-color);\n",
              "  }\n",
              "\n",
              "  .colab-df-quickchart-complete:disabled,\n",
              "  .colab-df-quickchart-complete:disabled:hover {\n",
              "    background-color: var(--disabled-bg-color);\n",
              "    fill: var(--disabled-fill-color);\n",
              "    box-shadow: none;\n",
              "  }\n",
              "\n",
              "  .colab-df-spinner {\n",
              "    border: 2px solid var(--fill-color);\n",
              "    border-color: transparent;\n",
              "    border-bottom-color: var(--fill-color);\n",
              "    animation:\n",
              "      spin 1s steps(1) infinite;\n",
              "  }\n",
              "\n",
              "  @keyframes spin {\n",
              "    0% {\n",
              "      border-color: transparent;\n",
              "      border-bottom-color: var(--fill-color);\n",
              "      border-left-color: var(--fill-color);\n",
              "    }\n",
              "    20% {\n",
              "      border-color: transparent;\n",
              "      border-left-color: var(--fill-color);\n",
              "      border-top-color: var(--fill-color);\n",
              "    }\n",
              "    30% {\n",
              "      border-color: transparent;\n",
              "      border-left-color: var(--fill-color);\n",
              "      border-top-color: var(--fill-color);\n",
              "      border-right-color: var(--fill-color);\n",
              "    }\n",
              "    40% {\n",
              "      border-color: transparent;\n",
              "      border-right-color: var(--fill-color);\n",
              "      border-top-color: var(--fill-color);\n",
              "    }\n",
              "    60% {\n",
              "      border-color: transparent;\n",
              "      border-right-color: var(--fill-color);\n",
              "    }\n",
              "    80% {\n",
              "      border-color: transparent;\n",
              "      border-right-color: var(--fill-color);\n",
              "      border-bottom-color: var(--fill-color);\n",
              "    }\n",
              "    90% {\n",
              "      border-color: transparent;\n",
              "      border-bottom-color: var(--fill-color);\n",
              "    }\n",
              "  }\n",
              "</style>\n",
              "\n",
              "  <script>\n",
              "    async function quickchart(key) {\n",
              "      const quickchartButtonEl =\n",
              "        document.querySelector('#' + key + ' button');\n",
              "      quickchartButtonEl.disabled = true;  // To prevent multiple clicks.\n",
              "      quickchartButtonEl.classList.add('colab-df-spinner');\n",
              "      try {\n",
              "        const charts = await google.colab.kernel.invokeFunction(\n",
              "            'suggestCharts', [key], {});\n",
              "      } catch (error) {\n",
              "        console.error('Error during call to suggestCharts:', error);\n",
              "      }\n",
              "      quickchartButtonEl.classList.remove('colab-df-spinner');\n",
              "      quickchartButtonEl.classList.add('colab-df-quickchart-complete');\n",
              "    }\n",
              "    (() => {\n",
              "      let quickchartButtonEl =\n",
              "        document.querySelector('#df-ceef5d16-caae-4b1a-8c07-bf64ecf4d603 button');\n",
              "      quickchartButtonEl.style.display =\n",
              "        google.colab.kernel.accessAllowed ? 'block' : 'none';\n",
              "    })();\n",
              "  </script>\n",
              "</div>\n",
              "\n",
              "    </div>\n",
              "  </div>\n"
            ],
            "application/vnd.google.colaboratory.intrinsic+json": {
              "type": "dataframe",
              "variable_name": "data"
            }
          },
          "metadata": {},
          "execution_count": 58
        }
      ]
    },
    {
      "cell_type": "code",
      "source": [
        "data.dtypes"
      ],
      "metadata": {
        "id": "pHpr2_1D3qk8",
        "colab": {
          "base_uri": "https://localhost:8080/"
        },
        "outputId": "ee2f8744-62d7-4496-82de-042323e41c81"
      },
      "id": "pHpr2_1D3qk8",
      "execution_count": 59,
      "outputs": [
        {
          "output_type": "execute_result",
          "data": {
            "text/plain": [
              "Edad (años)                                                    int64\n",
              "Genero                                                         int64\n",
              "Zona                                                           int64\n",
              "Fumador Activo                                                 int64\n",
              "¿Diabetes?                                                     int64\n",
              "Hipertensión Arterial Sistemica                                int64\n",
              "HTA + DM                                                       int64\n",
              "Clasificacion de Diabetes o del ultimo estado de Glicemia    float64\n",
              "Complicaciones  y Lesiones en Organo Blanco                    int64\n",
              "Antecedentes_Fliar_Enfermedad_Coronaria                        int64\n",
              "Tension SISTOLICA                                              int64\n",
              "Tension DIASTOLICA                                           float64\n",
              "HTA COMPENSADOS                                                int64\n",
              "Colesterol Total                                               int64\n",
              "Colesterol HDL                                               float64\n",
              "Trigliceridos                                                  int64\n",
              "Colesterol LDL                                               float64\n",
              "HTA Y DM COMPENSADA                                            int64\n",
              "Glicemia de ayuno                                            float64\n",
              "Perimetro Abdominal                                          float64\n",
              "Clasificación perímetro abdominal                            float64\n",
              "Peso                                                           int64\n",
              "Talla                                                          int64\n",
              "IMC                                                            int64\n",
              "CLASIFICACION IMC                                              int64\n",
              "Creatinina                                                   float64\n",
              "Factor de corrección de la formula                             int64\n",
              "Proteinuria                                                  float64\n",
              "Calculo de  TFG corregida (Cockcroft-Gault)                  float64\n",
              "Estadio IRC                                                  float64\n",
              "Remisiones Especialidad                                      float64\n",
              "Farmacos  Antihipertensivos                                  float64\n",
              "Estatina                                                       int64\n",
              "Antidiabeticos                                               float64\n",
              "Adherencia al tratamiento                                    float64\n",
              "dtype: object"
            ]
          },
          "metadata": {},
          "execution_count": 59
        }
      ]
    },
    {
      "cell_type": "markdown",
      "source": [
        "## Conteo de clases\n",
        "\n",
        "El desbalance de clases es notorio. La clase que representa al riesgo cardiovascular intermedio tiene 40% menos muestras que el riesgo cardiovascular alto. Entretanto, la clase que representa al riesgo cardiovascular bajo tiene 60% menos muestras que el riesgo cardiovascular alto."
      ],
      "metadata": {
        "id": "cY7fuulPDmAL"
      },
      "id": "cY7fuulPDmAL"
    },
    {
      "cell_type": "code",
      "source": [
        "import pandas as pd\n",
        "pd.DataFrame(target).value_counts()"
      ],
      "metadata": {
        "id": "Qw3A8P10DqBR",
        "colab": {
          "base_uri": "https://localhost:8080/"
        },
        "outputId": "92b83894-a90e-4ad8-9863-f00666ff6316"
      },
      "id": "Qw3A8P10DqBR",
      "execution_count": 60,
      "outputs": [
        {
          "output_type": "execute_result",
          "data": {
            "text/plain": [
              "2    1597\n",
              "1     820\n",
              "0     583\n",
              "Name: count, dtype: int64"
            ]
          },
          "metadata": {},
          "execution_count": 60
        }
      ]
    },
    {
      "cell_type": "markdown",
      "id": "maritime-warren",
      "metadata": {
        "id": "maritime-warren"
      },
      "source": [
        "## Preparar datos para el entrenamiento de la RNA\n",
        "En esta sección se excluyen la etapa de preprocesamiento de los datos, en la cual, se segue una metodología para asegurar la calidad de los datos. Así mismo, se excluye la etapa de análisis exploratorio de datos, en la cual, se eaplican técnicas de estadística descriptiva y, en algunos casos, inferencial. Por lo tanto, para efectos del taller, esta sección se restringue a la partición del conjunto original de datos para obtener los tres subconjguntos vitales en el entrenamiento y evaluación del modelo predictivo."
      ]
    },
    {
      "cell_type": "markdown",
      "id": "waiting-pizza",
      "metadata": {
        "id": "waiting-pizza"
      },
      "source": [
        "### Particionar datos"
      ]
    },
    {
      "cell_type": "code",
      "source": [
        "## Particionar el conjunto de datos para crear datos de entrenamiento, evaluación y validación.\n",
        "sc = StandardScaler()\n",
        "Xsc = sc.fit(data)\n",
        "X = Xsc.transform(data)\n",
        "X.shape\n",
        "\n",
        "X_train, X_test, y_train, y_test = split(X,target,\n",
        "                                         test_size=0.30,\n",
        "                                         random_state=42,\n",
        "                                         stratify=target)\n",
        "X_train, X_valid, y_train, y_valid = split(X_train, y_train,\n",
        "                                           test_size=0.2,\n",
        "                                           stratify=y_train)\n",
        "print(\"El tamaño de los nuevos subconjuntos es: \", X_train.shape, X_test.shape, X_valid.shape)\n",
        "print(\"Y es la variable que tiene las etiquetas de las clases a predecir: \", y_train.shape, y_test.shape, y_valid.shape)"
      ],
      "metadata": {
        "id": "5KnSXVxYVyxr",
        "colab": {
          "base_uri": "https://localhost:8080/"
        },
        "outputId": "7fddce74-65b8-4399-aca6-438f6d993863"
      },
      "id": "5KnSXVxYVyxr",
      "execution_count": 61,
      "outputs": [
        {
          "output_type": "stream",
          "name": "stdout",
          "text": [
            "El tamaño de los nuevos subconjuntos es:  (1680, 35) (900, 35) (420, 35)\n",
            "Y es la variable que tiene las etiquetas de las clases a predecir:  (1680,) (900,) (420,)\n"
          ]
        }
      ]
    },
    {
      "cell_type": "markdown",
      "source": [
        "### Transformación de etiquetas de la clase objetivo (Predicción Multiclase)"
      ],
      "metadata": {
        "id": "h6XCkQXzYfYh"
      },
      "id": "h6XCkQXzYfYh"
    },
    {
      "cell_type": "code",
      "execution_count": 62,
      "id": "productive-bunny",
      "metadata": {
        "id": "productive-bunny"
      },
      "outputs": [],
      "source": [
        "# #Transformación de las etiquetas requerida para el entrenamiento de RNA\n",
        "Y_train = np_utils.to_categorical(y_train)\n",
        "Y_test = np_utils.to_categorical(y_test)\n",
        "Y_valid = np_utils.to_categorical(y_valid)"
      ]
    },
    {
      "cell_type": "markdown",
      "id": "assured-conversation",
      "metadata": {
        "id": "assured-conversation"
      },
      "source": [
        "## Entrenamiento del modelo predictivo basado en RNA"
      ]
    },
    {
      "cell_type": "code",
      "source": [
        "# Optimización de hiperparámetros\n",
        "#funcion de activacion\n",
        "#loss\n",
        "#metrics\n",
        "#optimizer\n",
        "#learning_rate\n",
        "#epochs\n",
        "#batch_size"
      ],
      "metadata": {
        "id": "rJ5hcFCxa-c_"
      },
      "id": "rJ5hcFCxa-c_",
      "execution_count": 63,
      "outputs": []
    },
    {
      "cell_type": "markdown",
      "id": "external-sydney",
      "metadata": {
        "id": "external-sydney"
      },
      "source": [
        "### Diseño de la arquitectura del modelo de red neuronal artificial"
      ]
    },
    {
      "cell_type": "markdown",
      "source": [
        "### Compilar el modelo creado"
      ],
      "metadata": {
        "id": "ychB9Bk6p4xq"
      },
      "id": "ychB9Bk6p4xq"
    },
    {
      "cell_type": "code",
      "execution_count": 64,
      "id": "subject-electric",
      "metadata": {
        "id": "subject-electric"
      },
      "outputs": [],
      "source": [
        "# Definir la arquitectura del modelo de la RNA\n",
        "modelRNA = models.Sequential()\n",
        "modelRNA.add(Dense(8, batch_input_shape=(None, 35), activation='relu')) ## neuronas en la capa de entrada (batch_input_shape) y #neuronas en la primera capa oculta\n",
        "modelRNA.add(Dense(8, activation='relu'))\n",
        "modelRNA.add(Dense(8, activation='relu'))\n",
        "modelRNA.add(Dense(3, activation='softmax'))"
      ]
    },
    {
      "cell_type": "code",
      "source": [
        "# compile the keras (tensorflow) flow graph\n",
        "modelRNA.compile(optimizer=optimizers.RMSprop(learning_rate=0.001),\n",
        "              loss='binary_crossentropy',\n",
        "              metrics=['accuracy'])"
      ],
      "metadata": {
        "id": "fmO_BWTTp8yS"
      },
      "id": "fmO_BWTTp8yS",
      "execution_count": 65,
      "outputs": []
    },
    {
      "cell_type": "markdown",
      "source": [
        "### Entrenamiento del modelo de RNA"
      ],
      "metadata": {
        "id": "ZkxGCNZJpyIa"
      },
      "id": "ZkxGCNZJpyIa"
    },
    {
      "cell_type": "code",
      "source": [
        "# Inicializar el reloj para calcular tiempo de cómputo\n",
        "t0 = process_time()"
      ],
      "metadata": {
        "id": "EuZG0sHJr-pz"
      },
      "id": "EuZG0sHJr-pz",
      "execution_count": 66,
      "outputs": []
    },
    {
      "cell_type": "code",
      "source": [
        "training_log = modelRNA.fit(X_train,\n",
        "                    Y_train,\n",
        "                    epochs=200,\n",
        "                    batch_size=32,\n",
        "                    validation_data=(X_valid, Y_valid),\n",
        "                    verbose=1)"
      ],
      "metadata": {
        "id": "WEXqIZWeIjmt",
        "colab": {
          "base_uri": "https://localhost:8080/"
        },
        "outputId": "0cf20e1f-2cf8-41c7-d092-3889cdcbbc10"
      },
      "id": "WEXqIZWeIjmt",
      "execution_count": 67,
      "outputs": [
        {
          "output_type": "stream",
          "name": "stdout",
          "text": [
            "Epoch 1/200\n",
            "53/53 [==============================] - 1s 10ms/step - loss: 0.7137 - accuracy: 0.4780 - val_loss: 0.6657 - val_accuracy: 0.5357\n",
            "Epoch 2/200\n",
            "53/53 [==============================] - 0s 5ms/step - loss: 0.6424 - accuracy: 0.5321 - val_loss: 0.6194 - val_accuracy: 0.5333\n",
            "Epoch 3/200\n",
            "53/53 [==============================] - 0s 5ms/step - loss: 0.6081 - accuracy: 0.5321 - val_loss: 0.5904 - val_accuracy: 0.5333\n",
            "Epoch 4/200\n",
            "53/53 [==============================] - 0s 5ms/step - loss: 0.5833 - accuracy: 0.5321 - val_loss: 0.5669 - val_accuracy: 0.5333\n",
            "Epoch 5/200\n",
            "53/53 [==============================] - 0s 5ms/step - loss: 0.5607 - accuracy: 0.5321 - val_loss: 0.5446 - val_accuracy: 0.5333\n",
            "Epoch 6/200\n",
            "53/53 [==============================] - 0s 5ms/step - loss: 0.5373 - accuracy: 0.5321 - val_loss: 0.5218 - val_accuracy: 0.5333\n",
            "Epoch 7/200\n",
            "53/53 [==============================] - 0s 5ms/step - loss: 0.5119 - accuracy: 0.5464 - val_loss: 0.4963 - val_accuracy: 0.5667\n",
            "Epoch 8/200\n",
            "53/53 [==============================] - 0s 5ms/step - loss: 0.4833 - accuracy: 0.5899 - val_loss: 0.4676 - val_accuracy: 0.6643\n",
            "Epoch 9/200\n",
            "53/53 [==============================] - 0s 7ms/step - loss: 0.4521 - accuracy: 0.6583 - val_loss: 0.4395 - val_accuracy: 0.6905\n",
            "Epoch 10/200\n",
            "53/53 [==============================] - 0s 6ms/step - loss: 0.4218 - accuracy: 0.6881 - val_loss: 0.4143 - val_accuracy: 0.7119\n",
            "Epoch 11/200\n",
            "53/53 [==============================] - 0s 7ms/step - loss: 0.3972 - accuracy: 0.6988 - val_loss: 0.3961 - val_accuracy: 0.7071\n",
            "Epoch 12/200\n",
            "53/53 [==============================] - 0s 6ms/step - loss: 0.3793 - accuracy: 0.7155 - val_loss: 0.3832 - val_accuracy: 0.7238\n",
            "Epoch 13/200\n",
            "53/53 [==============================] - 0s 7ms/step - loss: 0.3656 - accuracy: 0.7232 - val_loss: 0.3732 - val_accuracy: 0.7429\n",
            "Epoch 14/200\n",
            "53/53 [==============================] - 0s 6ms/step - loss: 0.3545 - accuracy: 0.7345 - val_loss: 0.3661 - val_accuracy: 0.7452\n",
            "Epoch 15/200\n",
            "53/53 [==============================] - 0s 6ms/step - loss: 0.3454 - accuracy: 0.7488 - val_loss: 0.3598 - val_accuracy: 0.7595\n",
            "Epoch 16/200\n",
            "53/53 [==============================] - 0s 5ms/step - loss: 0.3373 - accuracy: 0.7601 - val_loss: 0.3550 - val_accuracy: 0.7667\n",
            "Epoch 17/200\n",
            "53/53 [==============================] - 0s 6ms/step - loss: 0.3304 - accuracy: 0.7750 - val_loss: 0.3503 - val_accuracy: 0.7762\n",
            "Epoch 18/200\n",
            "53/53 [==============================] - 0s 5ms/step - loss: 0.3244 - accuracy: 0.7833 - val_loss: 0.3467 - val_accuracy: 0.7857\n",
            "Epoch 19/200\n",
            "53/53 [==============================] - 0s 5ms/step - loss: 0.3185 - accuracy: 0.7929 - val_loss: 0.3439 - val_accuracy: 0.7833\n",
            "Epoch 20/200\n",
            "53/53 [==============================] - 0s 5ms/step - loss: 0.3132 - accuracy: 0.8000 - val_loss: 0.3427 - val_accuracy: 0.7810\n",
            "Epoch 21/200\n",
            "53/53 [==============================] - 0s 8ms/step - loss: 0.3086 - accuracy: 0.8006 - val_loss: 0.3380 - val_accuracy: 0.7881\n",
            "Epoch 22/200\n",
            "53/53 [==============================] - 0s 6ms/step - loss: 0.3038 - accuracy: 0.8125 - val_loss: 0.3354 - val_accuracy: 0.7905\n",
            "Epoch 23/200\n",
            "53/53 [==============================] - 0s 6ms/step - loss: 0.3001 - accuracy: 0.8149 - val_loss: 0.3338 - val_accuracy: 0.7857\n",
            "Epoch 24/200\n",
            "53/53 [==============================] - 0s 6ms/step - loss: 0.2963 - accuracy: 0.8208 - val_loss: 0.3302 - val_accuracy: 0.7952\n",
            "Epoch 25/200\n",
            "53/53 [==============================] - 0s 5ms/step - loss: 0.2925 - accuracy: 0.8250 - val_loss: 0.3301 - val_accuracy: 0.7833\n",
            "Epoch 26/200\n",
            "53/53 [==============================] - 0s 6ms/step - loss: 0.2898 - accuracy: 0.8315 - val_loss: 0.3263 - val_accuracy: 0.7976\n",
            "Epoch 27/200\n",
            "53/53 [==============================] - 0s 7ms/step - loss: 0.2867 - accuracy: 0.8232 - val_loss: 0.3241 - val_accuracy: 0.8000\n",
            "Epoch 28/200\n",
            "53/53 [==============================] - 0s 6ms/step - loss: 0.2839 - accuracy: 0.8321 - val_loss: 0.3252 - val_accuracy: 0.8000\n",
            "Epoch 29/200\n",
            "53/53 [==============================] - 0s 4ms/step - loss: 0.2818 - accuracy: 0.8268 - val_loss: 0.3207 - val_accuracy: 0.8048\n",
            "Epoch 30/200\n",
            "53/53 [==============================] - 0s 3ms/step - loss: 0.2793 - accuracy: 0.8298 - val_loss: 0.3195 - val_accuracy: 0.8095\n",
            "Epoch 31/200\n",
            "53/53 [==============================] - 0s 4ms/step - loss: 0.2765 - accuracy: 0.8321 - val_loss: 0.3208 - val_accuracy: 0.8095\n",
            "Epoch 32/200\n",
            "53/53 [==============================] - 0s 3ms/step - loss: 0.2741 - accuracy: 0.8381 - val_loss: 0.3181 - val_accuracy: 0.8167\n",
            "Epoch 33/200\n",
            "53/53 [==============================] - 0s 3ms/step - loss: 0.2712 - accuracy: 0.8417 - val_loss: 0.3172 - val_accuracy: 0.8190\n",
            "Epoch 34/200\n",
            "53/53 [==============================] - 0s 3ms/step - loss: 0.2703 - accuracy: 0.8423 - val_loss: 0.3167 - val_accuracy: 0.8143\n",
            "Epoch 35/200\n",
            "53/53 [==============================] - 0s 3ms/step - loss: 0.2677 - accuracy: 0.8417 - val_loss: 0.3164 - val_accuracy: 0.8190\n",
            "Epoch 36/200\n",
            "53/53 [==============================] - 0s 3ms/step - loss: 0.2658 - accuracy: 0.8464 - val_loss: 0.3148 - val_accuracy: 0.8190\n",
            "Epoch 37/200\n",
            "53/53 [==============================] - 0s 3ms/step - loss: 0.2643 - accuracy: 0.8440 - val_loss: 0.3149 - val_accuracy: 0.8238\n",
            "Epoch 38/200\n",
            "53/53 [==============================] - 0s 3ms/step - loss: 0.2626 - accuracy: 0.8464 - val_loss: 0.3134 - val_accuracy: 0.8286\n",
            "Epoch 39/200\n",
            "53/53 [==============================] - 0s 3ms/step - loss: 0.2609 - accuracy: 0.8494 - val_loss: 0.3138 - val_accuracy: 0.8214\n",
            "Epoch 40/200\n",
            "53/53 [==============================] - 0s 3ms/step - loss: 0.2590 - accuracy: 0.8494 - val_loss: 0.3120 - val_accuracy: 0.8286\n",
            "Epoch 41/200\n",
            "53/53 [==============================] - 0s 3ms/step - loss: 0.2574 - accuracy: 0.8512 - val_loss: 0.3128 - val_accuracy: 0.8190\n",
            "Epoch 42/200\n",
            "53/53 [==============================] - 0s 4ms/step - loss: 0.2563 - accuracy: 0.8500 - val_loss: 0.3120 - val_accuracy: 0.8214\n",
            "Epoch 43/200\n",
            "53/53 [==============================] - 0s 3ms/step - loss: 0.2545 - accuracy: 0.8518 - val_loss: 0.3102 - val_accuracy: 0.8262\n",
            "Epoch 44/200\n",
            "53/53 [==============================] - 0s 3ms/step - loss: 0.2531 - accuracy: 0.8518 - val_loss: 0.3096 - val_accuracy: 0.8262\n",
            "Epoch 45/200\n",
            "53/53 [==============================] - 0s 4ms/step - loss: 0.2519 - accuracy: 0.8571 - val_loss: 0.3099 - val_accuracy: 0.8238\n",
            "Epoch 46/200\n",
            "53/53 [==============================] - 0s 3ms/step - loss: 0.2497 - accuracy: 0.8577 - val_loss: 0.3109 - val_accuracy: 0.8190\n",
            "Epoch 47/200\n",
            "53/53 [==============================] - 0s 3ms/step - loss: 0.2485 - accuracy: 0.8613 - val_loss: 0.3109 - val_accuracy: 0.8167\n",
            "Epoch 48/200\n",
            "53/53 [==============================] - 0s 3ms/step - loss: 0.2467 - accuracy: 0.8583 - val_loss: 0.3105 - val_accuracy: 0.8190\n",
            "Epoch 49/200\n",
            "53/53 [==============================] - 0s 3ms/step - loss: 0.2456 - accuracy: 0.8583 - val_loss: 0.3091 - val_accuracy: 0.8214\n",
            "Epoch 50/200\n",
            "53/53 [==============================] - 0s 3ms/step - loss: 0.2439 - accuracy: 0.8560 - val_loss: 0.3086 - val_accuracy: 0.8143\n",
            "Epoch 51/200\n",
            "53/53 [==============================] - 0s 3ms/step - loss: 0.2429 - accuracy: 0.8595 - val_loss: 0.3090 - val_accuracy: 0.8238\n",
            "Epoch 52/200\n",
            "53/53 [==============================] - 0s 3ms/step - loss: 0.2415 - accuracy: 0.8601 - val_loss: 0.3086 - val_accuracy: 0.8214\n",
            "Epoch 53/200\n",
            "53/53 [==============================] - 0s 4ms/step - loss: 0.2397 - accuracy: 0.8637 - val_loss: 0.3104 - val_accuracy: 0.8119\n",
            "Epoch 54/200\n",
            "53/53 [==============================] - 0s 3ms/step - loss: 0.2388 - accuracy: 0.8595 - val_loss: 0.3087 - val_accuracy: 0.8167\n",
            "Epoch 55/200\n",
            "53/53 [==============================] - 0s 3ms/step - loss: 0.2383 - accuracy: 0.8613 - val_loss: 0.3088 - val_accuracy: 0.8167\n",
            "Epoch 56/200\n",
            "53/53 [==============================] - 0s 3ms/step - loss: 0.2365 - accuracy: 0.8667 - val_loss: 0.3112 - val_accuracy: 0.8119\n",
            "Epoch 57/200\n",
            "53/53 [==============================] - 0s 3ms/step - loss: 0.2357 - accuracy: 0.8595 - val_loss: 0.3108 - val_accuracy: 0.8143\n",
            "Epoch 58/200\n",
            "53/53 [==============================] - 0s 4ms/step - loss: 0.2345 - accuracy: 0.8619 - val_loss: 0.3106 - val_accuracy: 0.8167\n",
            "Epoch 59/200\n",
            "53/53 [==============================] - 0s 3ms/step - loss: 0.2330 - accuracy: 0.8673 - val_loss: 0.3099 - val_accuracy: 0.8214\n",
            "Epoch 60/200\n",
            "53/53 [==============================] - 0s 3ms/step - loss: 0.2324 - accuracy: 0.8619 - val_loss: 0.3094 - val_accuracy: 0.8143\n",
            "Epoch 61/200\n",
            "53/53 [==============================] - 0s 3ms/step - loss: 0.2310 - accuracy: 0.8685 - val_loss: 0.3121 - val_accuracy: 0.8238\n",
            "Epoch 62/200\n",
            "53/53 [==============================] - 0s 3ms/step - loss: 0.2303 - accuracy: 0.8655 - val_loss: 0.3117 - val_accuracy: 0.8214\n",
            "Epoch 63/200\n",
            "53/53 [==============================] - 0s 3ms/step - loss: 0.2288 - accuracy: 0.8613 - val_loss: 0.3121 - val_accuracy: 0.8262\n",
            "Epoch 64/200\n",
            "53/53 [==============================] - 0s 5ms/step - loss: 0.2283 - accuracy: 0.8673 - val_loss: 0.3121 - val_accuracy: 0.8214\n",
            "Epoch 65/200\n",
            "53/53 [==============================] - 0s 3ms/step - loss: 0.2266 - accuracy: 0.8679 - val_loss: 0.3147 - val_accuracy: 0.8262\n",
            "Epoch 66/200\n",
            "53/53 [==============================] - 0s 3ms/step - loss: 0.2263 - accuracy: 0.8696 - val_loss: 0.3140 - val_accuracy: 0.8286\n",
            "Epoch 67/200\n",
            "53/53 [==============================] - 0s 3ms/step - loss: 0.2249 - accuracy: 0.8661 - val_loss: 0.3123 - val_accuracy: 0.8262\n",
            "Epoch 68/200\n",
            "53/53 [==============================] - 0s 3ms/step - loss: 0.2235 - accuracy: 0.8679 - val_loss: 0.3171 - val_accuracy: 0.8286\n",
            "Epoch 69/200\n",
            "53/53 [==============================] - 0s 4ms/step - loss: 0.2233 - accuracy: 0.8655 - val_loss: 0.3132 - val_accuracy: 0.8238\n",
            "Epoch 70/200\n",
            "53/53 [==============================] - 0s 3ms/step - loss: 0.2215 - accuracy: 0.8726 - val_loss: 0.3134 - val_accuracy: 0.8238\n",
            "Epoch 71/200\n",
            "53/53 [==============================] - 0s 3ms/step - loss: 0.2205 - accuracy: 0.8714 - val_loss: 0.3153 - val_accuracy: 0.8214\n",
            "Epoch 72/200\n",
            "53/53 [==============================] - 0s 3ms/step - loss: 0.2202 - accuracy: 0.8708 - val_loss: 0.3131 - val_accuracy: 0.8119\n",
            "Epoch 73/200\n",
            "53/53 [==============================] - 0s 3ms/step - loss: 0.2191 - accuracy: 0.8714 - val_loss: 0.3146 - val_accuracy: 0.8095\n",
            "Epoch 74/200\n",
            "53/53 [==============================] - 0s 6ms/step - loss: 0.2181 - accuracy: 0.8708 - val_loss: 0.3137 - val_accuracy: 0.8071\n",
            "Epoch 75/200\n",
            "53/53 [==============================] - 0s 6ms/step - loss: 0.2177 - accuracy: 0.8756 - val_loss: 0.3173 - val_accuracy: 0.8119\n",
            "Epoch 76/200\n",
            "53/53 [==============================] - 0s 5ms/step - loss: 0.2161 - accuracy: 0.8750 - val_loss: 0.3200 - val_accuracy: 0.8095\n",
            "Epoch 77/200\n",
            "53/53 [==============================] - 0s 5ms/step - loss: 0.2158 - accuracy: 0.8732 - val_loss: 0.3158 - val_accuracy: 0.8143\n",
            "Epoch 78/200\n",
            "53/53 [==============================] - 0s 6ms/step - loss: 0.2146 - accuracy: 0.8756 - val_loss: 0.3167 - val_accuracy: 0.8119\n",
            "Epoch 79/200\n",
            "53/53 [==============================] - 0s 6ms/step - loss: 0.2146 - accuracy: 0.8720 - val_loss: 0.3182 - val_accuracy: 0.8095\n",
            "Epoch 80/200\n",
            "53/53 [==============================] - 0s 5ms/step - loss: 0.2140 - accuracy: 0.8726 - val_loss: 0.3185 - val_accuracy: 0.8071\n",
            "Epoch 81/200\n",
            "53/53 [==============================] - 0s 6ms/step - loss: 0.2128 - accuracy: 0.8756 - val_loss: 0.3197 - val_accuracy: 0.8119\n",
            "Epoch 82/200\n",
            "53/53 [==============================] - 0s 6ms/step - loss: 0.2116 - accuracy: 0.8756 - val_loss: 0.3188 - val_accuracy: 0.8095\n",
            "Epoch 83/200\n",
            "53/53 [==============================] - 0s 6ms/step - loss: 0.2115 - accuracy: 0.8732 - val_loss: 0.3178 - val_accuracy: 0.8095\n",
            "Epoch 84/200\n",
            "53/53 [==============================] - 0s 6ms/step - loss: 0.2109 - accuracy: 0.8768 - val_loss: 0.3188 - val_accuracy: 0.8048\n",
            "Epoch 85/200\n",
            "53/53 [==============================] - 0s 5ms/step - loss: 0.2103 - accuracy: 0.8762 - val_loss: 0.3234 - val_accuracy: 0.8071\n",
            "Epoch 86/200\n",
            "53/53 [==============================] - 0s 5ms/step - loss: 0.2101 - accuracy: 0.8762 - val_loss: 0.3231 - val_accuracy: 0.8048\n",
            "Epoch 87/200\n",
            "53/53 [==============================] - 0s 5ms/step - loss: 0.2090 - accuracy: 0.8762 - val_loss: 0.3229 - val_accuracy: 0.8095\n",
            "Epoch 88/200\n",
            "53/53 [==============================] - 0s 5ms/step - loss: 0.2085 - accuracy: 0.8774 - val_loss: 0.3248 - val_accuracy: 0.8071\n",
            "Epoch 89/200\n",
            "53/53 [==============================] - 0s 6ms/step - loss: 0.2079 - accuracy: 0.8744 - val_loss: 0.3250 - val_accuracy: 0.8048\n",
            "Epoch 90/200\n",
            "53/53 [==============================] - 0s 3ms/step - loss: 0.2081 - accuracy: 0.8792 - val_loss: 0.3263 - val_accuracy: 0.8048\n",
            "Epoch 91/200\n",
            "53/53 [==============================] - 0s 4ms/step - loss: 0.2069 - accuracy: 0.8756 - val_loss: 0.3263 - val_accuracy: 0.8119\n",
            "Epoch 92/200\n",
            "53/53 [==============================] - 0s 3ms/step - loss: 0.2065 - accuracy: 0.8792 - val_loss: 0.3246 - val_accuracy: 0.8071\n",
            "Epoch 93/200\n",
            "53/53 [==============================] - 0s 3ms/step - loss: 0.2057 - accuracy: 0.8768 - val_loss: 0.3295 - val_accuracy: 0.8071\n",
            "Epoch 94/200\n",
            "53/53 [==============================] - 0s 3ms/step - loss: 0.2055 - accuracy: 0.8792 - val_loss: 0.3272 - val_accuracy: 0.8143\n",
            "Epoch 95/200\n",
            "53/53 [==============================] - 0s 3ms/step - loss: 0.2044 - accuracy: 0.8821 - val_loss: 0.3321 - val_accuracy: 0.8095\n",
            "Epoch 96/200\n",
            "53/53 [==============================] - 0s 4ms/step - loss: 0.2047 - accuracy: 0.8798 - val_loss: 0.3291 - val_accuracy: 0.8095\n",
            "Epoch 97/200\n",
            "53/53 [==============================] - 0s 3ms/step - loss: 0.2038 - accuracy: 0.8804 - val_loss: 0.3300 - val_accuracy: 0.8095\n",
            "Epoch 98/200\n",
            "53/53 [==============================] - 0s 3ms/step - loss: 0.2035 - accuracy: 0.8780 - val_loss: 0.3301 - val_accuracy: 0.8119\n",
            "Epoch 99/200\n",
            "53/53 [==============================] - 0s 3ms/step - loss: 0.2031 - accuracy: 0.8815 - val_loss: 0.3321 - val_accuracy: 0.8214\n",
            "Epoch 100/200\n",
            "53/53 [==============================] - 0s 4ms/step - loss: 0.2024 - accuracy: 0.8810 - val_loss: 0.3292 - val_accuracy: 0.8119\n",
            "Epoch 101/200\n",
            "53/53 [==============================] - 0s 3ms/step - loss: 0.2023 - accuracy: 0.8792 - val_loss: 0.3296 - val_accuracy: 0.8071\n",
            "Epoch 102/200\n",
            "53/53 [==============================] - 0s 4ms/step - loss: 0.2020 - accuracy: 0.8786 - val_loss: 0.3299 - val_accuracy: 0.8143\n",
            "Epoch 103/200\n",
            "53/53 [==============================] - 0s 3ms/step - loss: 0.2021 - accuracy: 0.8798 - val_loss: 0.3309 - val_accuracy: 0.8071\n",
            "Epoch 104/200\n",
            "53/53 [==============================] - 0s 4ms/step - loss: 0.2013 - accuracy: 0.8810 - val_loss: 0.3307 - val_accuracy: 0.8095\n",
            "Epoch 105/200\n",
            "53/53 [==============================] - 0s 3ms/step - loss: 0.2007 - accuracy: 0.8815 - val_loss: 0.3306 - val_accuracy: 0.8190\n",
            "Epoch 106/200\n",
            "53/53 [==============================] - 0s 3ms/step - loss: 0.2006 - accuracy: 0.8815 - val_loss: 0.3307 - val_accuracy: 0.8143\n",
            "Epoch 107/200\n",
            "53/53 [==============================] - 0s 4ms/step - loss: 0.1999 - accuracy: 0.8804 - val_loss: 0.3365 - val_accuracy: 0.8095\n",
            "Epoch 108/200\n",
            "53/53 [==============================] - 0s 3ms/step - loss: 0.1995 - accuracy: 0.8810 - val_loss: 0.3321 - val_accuracy: 0.8190\n",
            "Epoch 109/200\n",
            "53/53 [==============================] - 0s 3ms/step - loss: 0.1993 - accuracy: 0.8798 - val_loss: 0.3323 - val_accuracy: 0.8119\n",
            "Epoch 110/200\n",
            "53/53 [==============================] - 0s 3ms/step - loss: 0.1988 - accuracy: 0.8810 - val_loss: 0.3337 - val_accuracy: 0.8143\n",
            "Epoch 111/200\n",
            "53/53 [==============================] - 0s 3ms/step - loss: 0.1985 - accuracy: 0.8786 - val_loss: 0.3349 - val_accuracy: 0.8119\n",
            "Epoch 112/200\n",
            "53/53 [==============================] - 0s 4ms/step - loss: 0.1979 - accuracy: 0.8786 - val_loss: 0.3356 - val_accuracy: 0.8119\n",
            "Epoch 113/200\n",
            "53/53 [==============================] - 0s 4ms/step - loss: 0.1985 - accuracy: 0.8774 - val_loss: 0.3371 - val_accuracy: 0.8024\n",
            "Epoch 114/200\n",
            "53/53 [==============================] - 0s 4ms/step - loss: 0.1973 - accuracy: 0.8810 - val_loss: 0.3368 - val_accuracy: 0.8190\n",
            "Epoch 115/200\n",
            "53/53 [==============================] - 0s 4ms/step - loss: 0.1973 - accuracy: 0.8815 - val_loss: 0.3361 - val_accuracy: 0.8143\n",
            "Epoch 116/200\n",
            "53/53 [==============================] - 0s 4ms/step - loss: 0.1968 - accuracy: 0.8815 - val_loss: 0.3387 - val_accuracy: 0.8167\n",
            "Epoch 117/200\n",
            "53/53 [==============================] - 0s 4ms/step - loss: 0.1962 - accuracy: 0.8792 - val_loss: 0.3407 - val_accuracy: 0.8167\n",
            "Epoch 118/200\n",
            "53/53 [==============================] - 0s 3ms/step - loss: 0.1962 - accuracy: 0.8833 - val_loss: 0.3374 - val_accuracy: 0.8190\n",
            "Epoch 119/200\n",
            "53/53 [==============================] - 0s 4ms/step - loss: 0.1955 - accuracy: 0.8833 - val_loss: 0.3431 - val_accuracy: 0.8119\n",
            "Epoch 120/200\n",
            "53/53 [==============================] - 0s 3ms/step - loss: 0.1962 - accuracy: 0.8804 - val_loss: 0.3366 - val_accuracy: 0.8167\n",
            "Epoch 121/200\n",
            "53/53 [==============================] - 0s 3ms/step - loss: 0.1948 - accuracy: 0.8845 - val_loss: 0.3357 - val_accuracy: 0.8190\n",
            "Epoch 122/200\n",
            "53/53 [==============================] - 0s 4ms/step - loss: 0.1948 - accuracy: 0.8821 - val_loss: 0.3418 - val_accuracy: 0.8143\n",
            "Epoch 123/200\n",
            "53/53 [==============================] - 0s 3ms/step - loss: 0.1944 - accuracy: 0.8827 - val_loss: 0.3390 - val_accuracy: 0.8119\n",
            "Epoch 124/200\n",
            "53/53 [==============================] - 0s 3ms/step - loss: 0.1947 - accuracy: 0.8804 - val_loss: 0.3391 - val_accuracy: 0.8190\n",
            "Epoch 125/200\n",
            "53/53 [==============================] - 0s 4ms/step - loss: 0.1945 - accuracy: 0.8857 - val_loss: 0.3367 - val_accuracy: 0.8167\n",
            "Epoch 126/200\n",
            "53/53 [==============================] - 0s 4ms/step - loss: 0.1932 - accuracy: 0.8833 - val_loss: 0.3392 - val_accuracy: 0.8167\n",
            "Epoch 127/200\n",
            "53/53 [==============================] - 0s 4ms/step - loss: 0.1949 - accuracy: 0.8839 - val_loss: 0.3381 - val_accuracy: 0.8167\n",
            "Epoch 128/200\n",
            "53/53 [==============================] - 0s 3ms/step - loss: 0.1935 - accuracy: 0.8833 - val_loss: 0.3394 - val_accuracy: 0.8190\n",
            "Epoch 129/200\n",
            "53/53 [==============================] - 0s 3ms/step - loss: 0.1930 - accuracy: 0.8869 - val_loss: 0.3420 - val_accuracy: 0.8095\n",
            "Epoch 130/200\n",
            "53/53 [==============================] - 0s 3ms/step - loss: 0.1938 - accuracy: 0.8845 - val_loss: 0.3398 - val_accuracy: 0.8143\n",
            "Epoch 131/200\n",
            "53/53 [==============================] - 0s 3ms/step - loss: 0.1915 - accuracy: 0.8881 - val_loss: 0.3391 - val_accuracy: 0.8095\n",
            "Epoch 132/200\n",
            "53/53 [==============================] - 0s 4ms/step - loss: 0.1928 - accuracy: 0.8845 - val_loss: 0.3380 - val_accuracy: 0.8048\n",
            "Epoch 133/200\n",
            "53/53 [==============================] - 0s 3ms/step - loss: 0.1916 - accuracy: 0.8899 - val_loss: 0.3392 - val_accuracy: 0.8143\n",
            "Epoch 134/200\n",
            "53/53 [==============================] - 0s 3ms/step - loss: 0.1914 - accuracy: 0.8839 - val_loss: 0.3435 - val_accuracy: 0.8095\n",
            "Epoch 135/200\n",
            "53/53 [==============================] - 0s 4ms/step - loss: 0.1919 - accuracy: 0.8845 - val_loss: 0.3434 - val_accuracy: 0.8143\n",
            "Epoch 136/200\n",
            "53/53 [==============================] - 0s 3ms/step - loss: 0.1919 - accuracy: 0.8839 - val_loss: 0.3426 - val_accuracy: 0.8190\n",
            "Epoch 137/200\n",
            "53/53 [==============================] - 0s 4ms/step - loss: 0.1918 - accuracy: 0.8851 - val_loss: 0.3429 - val_accuracy: 0.8095\n",
            "Epoch 138/200\n",
            "53/53 [==============================] - 0s 4ms/step - loss: 0.1914 - accuracy: 0.8863 - val_loss: 0.3419 - val_accuracy: 0.8071\n",
            "Epoch 139/200\n",
            "53/53 [==============================] - 0s 4ms/step - loss: 0.1909 - accuracy: 0.8845 - val_loss: 0.3466 - val_accuracy: 0.8095\n",
            "Epoch 140/200\n",
            "53/53 [==============================] - 0s 3ms/step - loss: 0.1904 - accuracy: 0.8869 - val_loss: 0.3487 - val_accuracy: 0.8024\n",
            "Epoch 141/200\n",
            "53/53 [==============================] - 0s 5ms/step - loss: 0.1904 - accuracy: 0.8893 - val_loss: 0.3464 - val_accuracy: 0.8119\n",
            "Epoch 142/200\n",
            "53/53 [==============================] - 0s 6ms/step - loss: 0.1893 - accuracy: 0.8893 - val_loss: 0.3439 - val_accuracy: 0.8119\n",
            "Epoch 143/200\n",
            "53/53 [==============================] - 0s 6ms/step - loss: 0.1898 - accuracy: 0.8875 - val_loss: 0.3428 - val_accuracy: 0.8167\n",
            "Epoch 144/200\n",
            "53/53 [==============================] - 0s 5ms/step - loss: 0.1889 - accuracy: 0.8899 - val_loss: 0.3504 - val_accuracy: 0.8071\n",
            "Epoch 145/200\n",
            "53/53 [==============================] - 0s 5ms/step - loss: 0.1885 - accuracy: 0.8857 - val_loss: 0.3509 - val_accuracy: 0.8071\n",
            "Epoch 146/200\n",
            "53/53 [==============================] - 0s 5ms/step - loss: 0.1886 - accuracy: 0.8905 - val_loss: 0.3525 - val_accuracy: 0.8071\n",
            "Epoch 147/200\n",
            "53/53 [==============================] - 0s 5ms/step - loss: 0.1889 - accuracy: 0.8899 - val_loss: 0.3500 - val_accuracy: 0.8095\n",
            "Epoch 148/200\n",
            "53/53 [==============================] - 0s 5ms/step - loss: 0.1880 - accuracy: 0.8905 - val_loss: 0.3494 - val_accuracy: 0.8071\n",
            "Epoch 149/200\n",
            "53/53 [==============================] - 0s 5ms/step - loss: 0.1874 - accuracy: 0.8929 - val_loss: 0.3469 - val_accuracy: 0.8071\n",
            "Epoch 150/200\n",
            "53/53 [==============================] - 0s 5ms/step - loss: 0.1876 - accuracy: 0.8917 - val_loss: 0.3512 - val_accuracy: 0.8095\n",
            "Epoch 151/200\n",
            "53/53 [==============================] - 0s 6ms/step - loss: 0.1870 - accuracy: 0.8958 - val_loss: 0.3509 - val_accuracy: 0.8095\n",
            "Epoch 152/200\n",
            "53/53 [==============================] - 0s 6ms/step - loss: 0.1870 - accuracy: 0.8899 - val_loss: 0.3483 - val_accuracy: 0.8167\n",
            "Epoch 153/200\n",
            "53/53 [==============================] - 0s 6ms/step - loss: 0.1864 - accuracy: 0.8935 - val_loss: 0.3518 - val_accuracy: 0.8048\n",
            "Epoch 154/200\n",
            "53/53 [==============================] - 0s 5ms/step - loss: 0.1863 - accuracy: 0.8923 - val_loss: 0.3507 - val_accuracy: 0.8095\n",
            "Epoch 155/200\n",
            "53/53 [==============================] - 0s 8ms/step - loss: 0.1854 - accuracy: 0.8958 - val_loss: 0.3465 - val_accuracy: 0.8095\n",
            "Epoch 156/200\n",
            "53/53 [==============================] - 0s 5ms/step - loss: 0.1857 - accuracy: 0.8958 - val_loss: 0.3508 - val_accuracy: 0.8119\n",
            "Epoch 157/200\n",
            "53/53 [==============================] - 0s 3ms/step - loss: 0.1846 - accuracy: 0.8940 - val_loss: 0.3485 - val_accuracy: 0.8095\n",
            "Epoch 158/200\n",
            "53/53 [==============================] - 0s 3ms/step - loss: 0.1852 - accuracy: 0.8929 - val_loss: 0.3491 - val_accuracy: 0.8095\n",
            "Epoch 159/200\n",
            "53/53 [==============================] - 0s 3ms/step - loss: 0.1842 - accuracy: 0.8929 - val_loss: 0.3449 - val_accuracy: 0.8143\n",
            "Epoch 160/200\n",
            "53/53 [==============================] - 0s 4ms/step - loss: 0.1840 - accuracy: 0.8970 - val_loss: 0.3488 - val_accuracy: 0.8143\n",
            "Epoch 161/200\n",
            "53/53 [==============================] - 0s 3ms/step - loss: 0.1837 - accuracy: 0.8958 - val_loss: 0.3475 - val_accuracy: 0.8143\n",
            "Epoch 162/200\n",
            "53/53 [==============================] - 0s 3ms/step - loss: 0.1831 - accuracy: 0.8964 - val_loss: 0.3500 - val_accuracy: 0.8167\n",
            "Epoch 163/200\n",
            "53/53 [==============================] - 0s 3ms/step - loss: 0.1836 - accuracy: 0.8958 - val_loss: 0.3510 - val_accuracy: 0.8071\n",
            "Epoch 164/200\n",
            "53/53 [==============================] - 0s 3ms/step - loss: 0.1832 - accuracy: 0.8952 - val_loss: 0.3497 - val_accuracy: 0.8143\n",
            "Epoch 165/200\n",
            "53/53 [==============================] - 0s 5ms/step - loss: 0.1833 - accuracy: 0.8935 - val_loss: 0.3517 - val_accuracy: 0.8119\n",
            "Epoch 166/200\n",
            "53/53 [==============================] - 0s 4ms/step - loss: 0.1826 - accuracy: 0.8940 - val_loss: 0.3528 - val_accuracy: 0.8190\n",
            "Epoch 167/200\n",
            "53/53 [==============================] - 0s 3ms/step - loss: 0.1822 - accuracy: 0.8970 - val_loss: 0.3532 - val_accuracy: 0.8190\n",
            "Epoch 168/200\n",
            "53/53 [==============================] - 0s 3ms/step - loss: 0.1819 - accuracy: 0.8952 - val_loss: 0.3493 - val_accuracy: 0.8190\n",
            "Epoch 169/200\n",
            "53/53 [==============================] - 0s 3ms/step - loss: 0.1818 - accuracy: 0.9012 - val_loss: 0.3538 - val_accuracy: 0.8119\n",
            "Epoch 170/200\n",
            "53/53 [==============================] - 0s 4ms/step - loss: 0.1813 - accuracy: 0.9018 - val_loss: 0.3498 - val_accuracy: 0.8214\n",
            "Epoch 171/200\n",
            "53/53 [==============================] - 0s 4ms/step - loss: 0.1816 - accuracy: 0.8970 - val_loss: 0.3532 - val_accuracy: 0.8119\n",
            "Epoch 172/200\n",
            "53/53 [==============================] - 0s 3ms/step - loss: 0.1817 - accuracy: 0.8958 - val_loss: 0.3499 - val_accuracy: 0.8190\n",
            "Epoch 173/200\n",
            "53/53 [==============================] - 0s 3ms/step - loss: 0.1811 - accuracy: 0.8988 - val_loss: 0.3531 - val_accuracy: 0.8095\n",
            "Epoch 174/200\n",
            "53/53 [==============================] - 0s 3ms/step - loss: 0.1805 - accuracy: 0.8994 - val_loss: 0.3565 - val_accuracy: 0.8190\n",
            "Epoch 175/200\n",
            "53/53 [==============================] - 0s 4ms/step - loss: 0.1805 - accuracy: 0.8976 - val_loss: 0.3509 - val_accuracy: 0.8190\n",
            "Epoch 176/200\n",
            "53/53 [==============================] - 0s 3ms/step - loss: 0.1805 - accuracy: 0.9018 - val_loss: 0.3500 - val_accuracy: 0.8190\n",
            "Epoch 177/200\n",
            "53/53 [==============================] - 0s 3ms/step - loss: 0.1806 - accuracy: 0.8994 - val_loss: 0.3514 - val_accuracy: 0.8095\n",
            "Epoch 178/200\n",
            "53/53 [==============================] - 0s 4ms/step - loss: 0.1796 - accuracy: 0.8982 - val_loss: 0.3495 - val_accuracy: 0.8190\n",
            "Epoch 179/200\n",
            "53/53 [==============================] - 0s 3ms/step - loss: 0.1796 - accuracy: 0.9036 - val_loss: 0.3520 - val_accuracy: 0.8119\n",
            "Epoch 180/200\n",
            "53/53 [==============================] - 0s 3ms/step - loss: 0.1790 - accuracy: 0.9012 - val_loss: 0.3530 - val_accuracy: 0.8095\n",
            "Epoch 181/200\n",
            "53/53 [==============================] - 0s 4ms/step - loss: 0.1793 - accuracy: 0.9060 - val_loss: 0.3543 - val_accuracy: 0.8095\n",
            "Epoch 182/200\n",
            "53/53 [==============================] - 0s 3ms/step - loss: 0.1796 - accuracy: 0.9012 - val_loss: 0.3554 - val_accuracy: 0.8095\n",
            "Epoch 183/200\n",
            "53/53 [==============================] - 0s 3ms/step - loss: 0.1785 - accuracy: 0.9042 - val_loss: 0.3522 - val_accuracy: 0.8143\n",
            "Epoch 184/200\n",
            "53/53 [==============================] - 0s 3ms/step - loss: 0.1786 - accuracy: 0.9018 - val_loss: 0.3546 - val_accuracy: 0.8119\n",
            "Epoch 185/200\n",
            "53/53 [==============================] - 0s 3ms/step - loss: 0.1779 - accuracy: 0.9060 - val_loss: 0.3568 - val_accuracy: 0.8095\n",
            "Epoch 186/200\n",
            "53/53 [==============================] - 0s 4ms/step - loss: 0.1778 - accuracy: 0.9018 - val_loss: 0.3547 - val_accuracy: 0.8143\n",
            "Epoch 187/200\n",
            "53/53 [==============================] - 0s 4ms/step - loss: 0.1775 - accuracy: 0.9054 - val_loss: 0.3583 - val_accuracy: 0.8167\n",
            "Epoch 188/200\n",
            "53/53 [==============================] - 0s 3ms/step - loss: 0.1772 - accuracy: 0.9048 - val_loss: 0.3538 - val_accuracy: 0.8167\n",
            "Epoch 189/200\n",
            "53/53 [==============================] - 0s 3ms/step - loss: 0.1775 - accuracy: 0.9060 - val_loss: 0.3574 - val_accuracy: 0.8167\n",
            "Epoch 190/200\n",
            "53/53 [==============================] - 0s 3ms/step - loss: 0.1770 - accuracy: 0.9089 - val_loss: 0.3622 - val_accuracy: 0.8143\n",
            "Epoch 191/200\n",
            "53/53 [==============================] - 0s 5ms/step - loss: 0.1773 - accuracy: 0.9048 - val_loss: 0.3571 - val_accuracy: 0.8167\n",
            "Epoch 192/200\n",
            "53/53 [==============================] - 0s 4ms/step - loss: 0.1764 - accuracy: 0.9024 - val_loss: 0.3577 - val_accuracy: 0.8095\n",
            "Epoch 193/200\n",
            "53/53 [==============================] - 0s 3ms/step - loss: 0.1763 - accuracy: 0.9083 - val_loss: 0.3544 - val_accuracy: 0.8143\n",
            "Epoch 194/200\n",
            "53/53 [==============================] - 0s 3ms/step - loss: 0.1762 - accuracy: 0.9048 - val_loss: 0.3559 - val_accuracy: 0.8119\n",
            "Epoch 195/200\n",
            "53/53 [==============================] - 0s 3ms/step - loss: 0.1761 - accuracy: 0.9060 - val_loss: 0.3590 - val_accuracy: 0.8095\n",
            "Epoch 196/200\n",
            "53/53 [==============================] - 0s 4ms/step - loss: 0.1753 - accuracy: 0.9101 - val_loss: 0.3581 - val_accuracy: 0.8095\n",
            "Epoch 197/200\n",
            "53/53 [==============================] - 0s 3ms/step - loss: 0.1757 - accuracy: 0.9089 - val_loss: 0.3548 - val_accuracy: 0.8143\n",
            "Epoch 198/200\n",
            "53/53 [==============================] - 0s 3ms/step - loss: 0.1751 - accuracy: 0.9107 - val_loss: 0.3627 - val_accuracy: 0.8095\n",
            "Epoch 199/200\n",
            "53/53 [==============================] - 0s 3ms/step - loss: 0.1748 - accuracy: 0.9083 - val_loss: 0.3605 - val_accuracy: 0.8071\n",
            "Epoch 200/200\n",
            "53/53 [==============================] - 0s 3ms/step - loss: 0.1740 - accuracy: 0.9113 - val_loss: 0.3602 - val_accuracy: 0.8238\n"
          ]
        }
      ]
    },
    {
      "cell_type": "code",
      "source": [
        "# # Tiempo de computo\n",
        "t1 = process_time()\n",
        "tc = t1-t0\n",
        "\n",
        "# # Mostrar tiempo de cómputo del entrenamiento del modelo de RNA\n",
        "print('El tiempo de cómputo con RNA fue: %.2f segundos' % tc)"
      ],
      "metadata": {
        "id": "ns4XH0KkryiK",
        "colab": {
          "base_uri": "https://localhost:8080/"
        },
        "outputId": "3816ec48-cdf1-41b3-ae12-6b37d515cad2"
      },
      "id": "ns4XH0KkryiK",
      "execution_count": 68,
      "outputs": [
        {
          "output_type": "stream",
          "name": "stdout",
          "text": [
            "El tiempo de cómputo con RNA fue: 46.64 segundos\n"
          ]
        }
      ]
    },
    {
      "cell_type": "markdown",
      "source": [
        "### Predicción"
      ],
      "metadata": {
        "id": "kt-1kPj1t2y_"
      },
      "id": "kt-1kPj1t2y_"
    },
    {
      "cell_type": "code",
      "source": [
        "X_pred = modelRNA.predict(X_test, batch_size = 32, verbose=1)\n",
        "y_pred = np.argmax(X_pred, axis=1)\n",
        "print(y_pred.shape)"
      ],
      "metadata": {
        "id": "s2V_K7x8t4LQ",
        "colab": {
          "base_uri": "https://localhost:8080/"
        },
        "outputId": "046b2329-6ed8-4cc3-ff68-5b6b88492a53"
      },
      "id": "s2V_K7x8t4LQ",
      "execution_count": 69,
      "outputs": [
        {
          "output_type": "stream",
          "name": "stdout",
          "text": [
            "29/29 [==============================] - 0s 2ms/step\n",
            "(900,)\n"
          ]
        }
      ]
    },
    {
      "cell_type": "markdown",
      "source": [
        "## Evaluación del modelo entrenado"
      ],
      "metadata": {
        "id": "0Z0yUZ0dqgIz"
      },
      "id": "0Z0yUZ0dqgIz"
    },
    {
      "cell_type": "markdown",
      "source": [
        "### Gráficas de pérdida de entrenamiento y validación"
      ],
      "metadata": {
        "id": "NFH5y6qOqio9"
      },
      "id": "NFH5y6qOqio9"
    },
    {
      "cell_type": "code",
      "execution_count": 70,
      "id": "internal-hudson",
      "metadata": {
        "id": "internal-hudson",
        "colab": {
          "base_uri": "https://localhost:8080/",
          "height": 490
        },
        "outputId": "c489bcab-1eb3-46c5-f128-5b24a18a773c"
      },
      "outputs": [
        {
          "output_type": "display_data",
          "data": {
            "text/plain": [
              "<Figure size 1600x500 with 2 Axes>"
            ],
            "image/png": "[encoded data removed]"
          },
          "metadata": {}
        }
      ],
      "source": [
        "# Gráficas de pérdidas en entrenamiento y validación\n",
        "loss = training_log.history['loss']\n",
        "val_loss = training_log.history['val_loss']\n",
        "epochs = range(1, len(val_loss) + 1)\n",
        "\n",
        "# Gráfica comparativa: pérdida en entrenamiento\n",
        "plt.figure(figsize=(16, 5))\n",
        "plt.subplot(1, 2, 1)\n",
        "plt.plot(epochs, loss, 'g*--', label=\"Perceptrón 5 capas\")\n",
        "plt.title('Pérdida en el entrenamiento arquitectura ARN')\n",
        "plt.xlabel('Épocas')\n",
        "plt.ylabel('Pérdida')\n",
        "plt.legend(loc=\"upper center\", fontsize=\"small\")\n",
        "plt.legend()\n",
        "plt.grid(True)\n",
        "\n",
        "# Gráfica comparativa: pérdida en validación\n",
        "plt.subplot(1, 2, 2)\n",
        "plt.plot(epochs, val_loss, 'b*--', label=\"Perceptrón 5 capas\")\n",
        "plt.title('Pérdida en la validación arquitectura ARN')\n",
        "plt.xlabel('Épocas')\n",
        "plt.ylabel('Pérdida')\n",
        "plt.legend(loc=\"upper center\", fontsize=\"small\")\n",
        "plt.legend()\n",
        "plt.grid(True)\n",
        "plt.show()"
      ]
    },
    {
      "cell_type": "markdown",
      "source": [
        "### Visualizar reporte del entrenamiento de la RNA"
      ],
      "metadata": {
        "id": "o_wQRzRnq3K8"
      },
      "id": "o_wQRzRnq3K8"
    },
    {
      "cell_type": "code",
      "execution_count": 71,
      "id": "reliable-resort",
      "metadata": {
        "id": "reliable-resort",
        "colab": {
          "base_uri": "https://localhost:8080/"
        },
        "outputId": "561cd800-49c9-47ea-8b7f-ffb104d2473f"
      },
      "outputs": [
        {
          "output_type": "stream",
          "name": "stdout",
          "text": [
            "\n",
            "               precision    recall  f1-score   support\n",
            "\n",
            "           0      0.839     0.657     0.737       175\n",
            "           1      0.639     0.711     0.673       246\n",
            "           2      0.877     0.896     0.886       479\n",
            "\n",
            "    accuracy                          0.799       900\n",
            "   macro avg      0.785     0.755     0.766       900\n",
            "weighted avg      0.805     0.799     0.799       900\n",
            "\n"
          ]
        }
      ],
      "source": [
        "# Métricas de desempeño\n",
        "# Mostrar la precisión, recall, F1-score\n",
        "print(\"\\n\", classification_report(y_test, y_pred, digits=3))"
      ]
    },
    {
      "cell_type": "markdown",
      "source": [
        "### Visualizar matriz de confusión"
      ],
      "metadata": {
        "id": "7MPa73-zrCAr"
      },
      "id": "7MPa73-zrCAr"
    },
    {
      "cell_type": "code",
      "execution_count": 72,
      "id": "opened-quantity",
      "metadata": {
        "id": "opened-quantity",
        "colab": {
          "base_uri": "https://localhost:8080/",
          "height": 526
        },
        "outputId": "61566373-5548-447e-cd1a-c0c54c12cb5e"
      },
      "outputs": [
        {
          "output_type": "display_data",
          "data": {
            "text/plain": [
              "<Figure size 640x480 with 1 Axes>"
            ],
            "image/png": "[encoded data removed]"
          },
          "metadata": {}
        }
      ],
      "source": [
        "# Matriz de confusión\n",
        "# cm = metrics.confusion_matrix(Y_test.argmax(axis=1),\n",
        "#                               Y_pred.argmax(axis=1))\n",
        "cm = confusion_matrix(y_test, y_pred)\n",
        "plt.imshow(cm, interpolation='nearest', cmap=plt.cm.Wistia)\n",
        "classNames = ['RCV bajo','RCV latente', 'RCV alto']\n",
        "plt.title('Matriz de confusión modelo predictivo RCV')\n",
        "plt.ylabel('True label')\n",
        "plt.xlabel('Predicted label')\n",
        "tick_marks = np.arange(len(classNames))\n",
        "plt.xticks(tick_marks, classNames, rotation=45)\n",
        "plt.yticks(tick_marks, classNames)\n",
        "for i in range(3):\n",
        "    for j in range(3):\n",
        "        plt.text(j,i, str(cm[i][j]))"
      ]
    },
    {
      "cell_type": "markdown",
      "source": [
        "### Curva ROC\n"
      ],
      "metadata": {
        "id": "fI_T7Ud8Myl6"
      },
      "id": "fI_T7Ud8Myl6"
    },
    {
      "cell_type": "code",
      "source": [
        "# Curva ROC\n",
        "# #https://stackabuse.com/understanding-roc-curves-with-python/\n",
        "Y_pred = np_utils.to_categorical(y_pred)\n",
        "auc = roc_auc_score(Y_test, Y_pred)\n",
        "fpr, tpr, threshold = roc_curve(Y_test[:,0], Y_pred[:,0])\n",
        "font = {'family': 'serif',\n",
        "    'color':  'darkred',\n",
        "    'weight': 'normal',\n",
        "    'size': 16,\n",
        "    }\n",
        "plt.plot(fpr, tpr, color='green', label='ROC RCV bajo')\n",
        "plt.plot([0, 1], [0, 1], color='black', linestyle='--')\n",
        "plt.xlabel('Tasa de Falsos Positivos')\n",
        "plt.ylabel('Tasa de Verdaderos Postivos')\n",
        "plt.title('Curva ROC RNA')\n",
        "fpr, tpr, threshold = roc_curve(Y_test[:,1], Y_pred[:,1])\n",
        "plt.plot(fpr, tpr, color='darkblue', label='ROC RCV latente')\n",
        "fpr, tpr, threshold = roc_curve(Y_test[:,2], Y_pred[:,2])\n",
        "plt.plot(fpr, tpr, color='orange', label='ROC RCV alto')\n",
        "plt.text(0.7, 0.55, 'AUC: %.2f' % auc, fontdict=font)\n",
        "plt.legend()\n",
        "plt.show()"
      ],
      "metadata": {
        "id": "HysJdDp7M01I",
        "colab": {
          "base_uri": "https://localhost:8080/",
          "height": 472
        },
        "outputId": "16d5ff41-8345-4fb1-a4ad-be719c2e43d0"
      },
      "id": "HysJdDp7M01I",
      "execution_count": 73,
      "outputs": [
        {
          "output_type": "display_data",
          "data": {
            "text/plain": [
              "<Figure size 640x480 with 1 Axes>"
            ],
            "image/png": "[encoded data removed]"
          },
          "metadata": {}
        }
      ]
    },
    {
      "cell_type": "code",
      "execution_count": null,
      "id": "substantial-killer",
      "metadata": {
        "id": "substantial-killer"
      },
      "outputs": [],
      "source": [
        "#Guardar modelo\n",
        "# import pickle\n",
        "# pickle.dump(modelRNA, open('RNA_RCV_01.pkl', 'wb'))\n",
        "\n",
        "# #Cargar modelo almacenado\n",
        "# model = pickle.load(open('RNA_RCV_01.pkl', 'rb'))\n",
        "# result_val = model.score(X_valid, y_valid)\n",
        "# result_test = model.score(X_test, y_test)\n",
        "# print(result_val)\n",
        "# print(result_test)"
      ]
    },
    {
      "cell_type": "markdown",
      "id": "acceptable-knowing",
      "metadata": {
        "id": "acceptable-knowing"
      },
      "source": [
        "## Conclusiones\n"
      ]
    }
  ],
  "metadata": {
    "kernelspec": {
      "display_name": "Python (bertgpu)",
      "language": "python",
      "name": "bertgpu"
    },
    "language_info": {
      "codemirror_mode": {
        "name": "ipython",
        "version": 3
      },
      "file_extension": ".py",
      "mimetype": "text/x-python",
      "name": "python",
      "nbconvert_exporter": "python",
      "pygments_lexer": "ipython3",
      "version": "3.7.10"
    },
    "colab": {
      "provenance": [],
      "include_colab_link": true
    }
  },
  "nbformat": 4,
  "nbformat_minor": 5
}