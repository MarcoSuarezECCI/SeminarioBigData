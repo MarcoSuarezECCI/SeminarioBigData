{
  "cells": [
    {
      "cell_type": "markdown",
      "metadata": {
        "id": "view-in-github",
        "colab_type": "text"
      },
      "source": [
        "<a href=\"https://colab.research.google.com/github/MarcoSuarezECCI/SeminarioBigData/blob/main/1_PPvsSpark_01.ipynb\" target=\"_parent\"><img src=\"https://colab.research.google.com/assets/colab-badge.svg\" alt=\"Open In Colab\"/></a>"
      ]
    },
    {
      "cell_type": "markdown",
      "metadata": {
        "id": "eaWuPCeSCMrE"
      },
      "source": [
        "# Pandas vs Polars vs Spark vs Dask\n",
        "[Author: Elias Buitrago Bolivar](https://github.com/ebuitrago?tab=repositories)\n",
        "\n",
        "Inspired in: https://www.youtube.com/watch?v=mi9f9zOaqM8\n",
        "\n",
        "Original data: Kaggle\n",
        "\n",
        "This jupyter notebook is designed to study and compare different tools to read and manipulate data; to be used in the data undertanding phase. The corresponding explanations will be given directly in class, therefore the material isn't autoexplained. Don´t forget ask me for the access to the data. And, please, give credits to the original author's idea and, if consider, also to me.\n",
        "\n",
        "_Updated: June 20th, 2023_"
      ]
    },
    {
      "cell_type": "code",
      "execution_count": 8,
      "metadata": {
        "colab": {
          "base_uri": "https://localhost:8080/"
        },
        "id": "gHGdXnH8TyYb",
        "outputId": "2f13d8c3-c82c-4688-bdaf-4671d348bb66"
      },
      "outputs": [
        {
          "output_type": "stream",
          "name": "stdout",
          "text": [
            "Drive already mounted at /content/drive; to attempt to forcibly remount, call drive.mount(\"/content/drive\", force_remount=True).\n"
          ]
        }
      ],
      "source": [
        "from google.colab import drive\n",
        "drive.mount('/content/drive')"
      ]
    },
    {
      "cell_type": "markdown",
      "metadata": {
        "id": "ATWWYNueQGse"
      },
      "source": [
        "## Playing with pandas"
      ]
    },
    {
      "cell_type": "code",
      "execution_count": 16,
      "metadata": {
        "id": "602OX1c4QGau"
      },
      "outputs": [],
      "source": [
        "import pandas as pd\n",
        "flights_file1 = \"/content/drive/MyDrive/data/flights/Combined_Flights_2018.parquet\"\n",
        "#flights_file2 = \"/content/drive/MyDrive/data/flights/Combined_Flights_2019.parquet\"\n",
        "#flights_file3 = \"/content/drive/MyDrive/data/flights/Combined_Flights_2020.parquet\"\n",
        "#flights_file4 = \"/content/drive/MyDrive/data/flights/Combined_Flights_2021.parquet\"\n",
        "#flights_file5 = \"/content/drive/MyDrive/data/flights/Combined_Flights_2022.parquet\"\n",
        "\n",
        "df1 = pd.read_parquet(flights_file1)\n",
        "#df2 = pd.read_parquet(flights_file2)\n",
        "#df3 = pd.read_parquet(flights_file3)\n",
        "#df4 = pd.read_parquet(flights_file4)\n",
        "#df5 = pd.read_parquet(flights_file5)"
      ]
    },
    {
      "cell_type": "code",
      "execution_count": 17,
      "metadata": {
        "id": "u2jGy-fGWxBj"
      },
      "outputs": [],
      "source": [
        "#df = pd.concat([df1, df2])\n",
        "df = df1"
      ]
    },
    {
      "cell_type": "code",
      "execution_count": 18,
      "metadata": {
        "id": "ZaJZYO4rQWmn"
      },
      "outputs": [],
      "source": [
        "# %%timeit\n",
        "\n",
        "df_agg = df.groupby(['Airline','Year'])[[\"DepDelayMinutes\", \"ArrDelayMinutes\"]].agg(\n",
        "    [\"mean\", \"sum\", \"max\"]\n",
        ")\n",
        "df_agg = df_agg.reset_index()\n",
        "df_agg.to_parquet(\"temp_pandas.parquet\")"
      ]
    },
    {
      "cell_type": "code",
      "execution_count": 19,
      "metadata": {
        "colab": {
          "base_uri": "https://localhost:8080/"
        },
        "id": "AyVTxkpsRx5n",
        "outputId": "4cae03c8-b2be-4db5-9778-286bc9315a01"
      },
      "outputs": [
        {
          "output_type": "stream",
          "name": "stdout",
          "text": [
            "12K -rw-r--r-- 1 root 9.2K Jul  3 00:25 temp_pandas.parquet\n"
          ]
        }
      ],
      "source": [
        "!ls -GFlash temp_pandas.parquet"
      ]
    },
    {
      "cell_type": "code",
      "execution_count": 24,
      "metadata": {
        "colab": {
          "base_uri": "https://localhost:8080/",
          "height": 958
        },
        "id": "wQfxFHKkRUjt",
        "outputId": "c91d4d9b-2632-46cf-bce6-2a3fd8d150b0"
      },
      "outputs": [
        {
          "output_type": "execute_result",
          "data": {
            "text/plain": [
              "                                      Airline  Year DepDelayMinutes  \\\n",
              "                                                               mean   \n",
              "0                 Air Wisconsin Airlines Corp  2018       16.753459   \n",
              "1                        Alaska Airlines Inc.  2018        7.503389   \n",
              "2                               Allegiant Air  2018       17.080944   \n",
              "3                      American Airlines Inc.  2018       13.141112   \n",
              "4                                    Cape Air  2018        4.643761   \n",
              "5                 Capital Cargo International  2018       14.876462   \n",
              "6                                 Comair Inc.  2018       12.776783   \n",
              "7   Commutair Aka Champlain Enterprises, Inc.  2018       28.243923   \n",
              "8                            Compass Airlines  2018       14.060415   \n",
              "9                        Delta Air Lines Inc.  2018        8.538123   \n",
              "10                       Empire Airlines Inc.  2018       13.654324   \n",
              "11                          Endeavor Air Inc.  2018       13.952577   \n",
              "12                                  Envoy Air  2018       10.910172   \n",
              "13                   ExpressJet Airlines Inc.  2018       16.544919   \n",
              "14                     Frontier Airlines Inc.  2018       23.029903   \n",
              "15   GoJet Airlines, LLC d/b/a United Express  2018       16.427071   \n",
              "16                     Hawaiian Airlines Inc.  2018        5.011211   \n",
              "17                                Horizon Air  2018        7.285063   \n",
              "18                            JetBlue Airways  2018       19.670430   \n",
              "19                         Mesa Airlines Inc.  2018       15.128549   \n",
              "20                     Peninsula Airways Inc.  2018       14.184256   \n",
              "21                          Republic Airlines  2018       12.002701   \n",
              "22                      SkyWest Airlines Inc.  2018       14.514365   \n",
              "23                     Southwest Airlines Co.  2018       12.598293   \n",
              "24                           Spirit Air Lines  2018       13.666850   \n",
              "25                      Trans States Airlines  2018       21.379592   \n",
              "26                      United Air Lines Inc.  2018       13.614583   \n",
              "27                             Virgin America  2018       10.902274   \n",
              "\n",
              "                       ArrDelayMinutes                      \n",
              "           sum     max            mean         sum     max  \n",
              "0    1606774.0  1296.0       17.881934   1708887.0  1292.0  \n",
              "1    1374801.0   839.0        8.759125   1600336.0   842.0  \n",
              "2    1630769.0  1462.0       17.547588   1670390.0  1505.0  \n",
              "3    4993399.0  2109.0       14.225643   5387564.0  2153.0  \n",
              "4       7704.0   430.0        5.390332      8921.0   446.0  \n",
              "5     625823.0   841.0       15.310871    640270.0   814.0  \n",
              "6    1452158.0  1121.0       12.789146   1447872.0  1110.0  \n",
              "7    1290832.0  1352.0       29.284076   1332689.0  1353.0  \n",
              "8     629302.0  2625.0       14.836996    662917.0  2635.0  \n",
              "9    3924514.0  1207.0        8.368956   3840012.0  1206.0  \n",
              "10    115420.0   655.0       14.458483    120497.0   654.0  \n",
              "11   1629061.0  1921.0       14.456739   1691424.0  1916.0  \n",
              "12   1353516.0  1163.0       12.531226   1546817.0  1152.0  \n",
              "13   2689873.0  1522.0       17.858140   2892215.0  1553.0  \n",
              "14   2711702.0  1254.0       22.355794   2627320.0  1253.0  \n",
              "15   1029156.0  1545.0       16.987283   1060635.0  1543.0  \n",
              "16    418366.0  2482.0        5.944504    495623.0  2475.0  \n",
              "17    613854.0   640.0        8.279781    694980.0   642.0  \n",
              "18   5876305.0  1489.0       19.820096   5901592.0  1473.0  \n",
              "19   2274532.0  1789.0       16.418326   2460122.0  1773.0  \n",
              "20     16397.0   470.0       15.569902     17485.0   437.0  \n",
              "21   2377663.0  1270.0       13.293485   2624772.0  1346.0  \n",
              "22   7611841.0  2098.0       15.656154   8173859.0  2108.0  \n",
              "23  16812158.0   713.0       11.119075  14806261.0   698.0  \n",
              "24   2385002.0  1527.0       14.241442   2479848.0  1527.0  \n",
              "25   1389310.0  1519.0       22.335766   1444320.0  1537.0  \n",
              "26   8398591.0  1431.0       14.477765   8902595.0  1429.0  \n",
              "27    187977.0   520.0       11.950971    204995.0   504.0  "
            ],
            "text/html": [
              "\n",
              "  <div id=\"df-9000b75c-1ef0-4bb1-a54f-4ad8d2dcf1bc\" class=\"colab-df-container\">\n",
              "    <div>\n",
              "<style scoped>\n",
              "    .dataframe tbody tr th:only-of-type {\n",
              "        vertical-align: middle;\n",
              "    }\n",
              "\n",
              "    .dataframe tbody tr th {\n",
              "        vertical-align: top;\n",
              "    }\n",
              "\n",
              "    .dataframe thead tr th {\n",
              "        text-align: left;\n",
              "    }\n",
              "</style>\n",
              "<table border=\"1\" class=\"dataframe\">\n",
              "  <thead>\n",
              "    <tr>\n",
              "      <th></th>\n",
              "      <th>Airline</th>\n",
              "      <th>Year</th>\n",
              "      <th colspan=\"3\" halign=\"left\">DepDelayMinutes</th>\n",
              "      <th colspan=\"3\" halign=\"left\">ArrDelayMinutes</th>\n",
              "    </tr>\n",
              "    <tr>\n",
              "      <th></th>\n",
              "      <th></th>\n",
              "      <th></th>\n",
              "      <th>mean</th>\n",
              "      <th>sum</th>\n",
              "      <th>max</th>\n",
              "      <th>mean</th>\n",
              "      <th>sum</th>\n",
              "      <th>max</th>\n",
              "    </tr>\n",
              "  </thead>\n",
              "  <tbody>\n",
              "    <tr>\n",
              "      <th>0</th>\n",
              "      <td>Air Wisconsin Airlines Corp</td>\n",
              "      <td>2018</td>\n",
              "      <td>16.753459</td>\n",
              "      <td>1606774.0</td>\n",
              "      <td>1296.0</td>\n",
              "      <td>17.881934</td>\n",
              "      <td>1708887.0</td>\n",
              "      <td>1292.0</td>\n",
              "    </tr>\n",
              "    <tr>\n",
              "      <th>1</th>\n",
              "      <td>Alaska Airlines Inc.</td>\n",
              "      <td>2018</td>\n",
              "      <td>7.503389</td>\n",
              "      <td>1374801.0</td>\n",
              "      <td>839.0</td>\n",
              "      <td>8.759125</td>\n",
              "      <td>1600336.0</td>\n",
              "      <td>842.0</td>\n",
              "    </tr>\n",
              "    <tr>\n",
              "      <th>2</th>\n",
              "      <td>Allegiant Air</td>\n",
              "      <td>2018</td>\n",
              "      <td>17.080944</td>\n",
              "      <td>1630769.0</td>\n",
              "      <td>1462.0</td>\n",
              "      <td>17.547588</td>\n",
              "      <td>1670390.0</td>\n",
              "      <td>1505.0</td>\n",
              "    </tr>\n",
              "    <tr>\n",
              "      <th>3</th>\n",
              "      <td>American Airlines Inc.</td>\n",
              "      <td>2018</td>\n",
              "      <td>13.141112</td>\n",
              "      <td>4993399.0</td>\n",
              "      <td>2109.0</td>\n",
              "      <td>14.225643</td>\n",
              "      <td>5387564.0</td>\n",
              "      <td>2153.0</td>\n",
              "    </tr>\n",
              "    <tr>\n",
              "      <th>4</th>\n",
              "      <td>Cape Air</td>\n",
              "      <td>2018</td>\n",
              "      <td>4.643761</td>\n",
              "      <td>7704.0</td>\n",
              "      <td>430.0</td>\n",
              "      <td>5.390332</td>\n",
              "      <td>8921.0</td>\n",
              "      <td>446.0</td>\n",
              "    </tr>\n",
              "    <tr>\n",
              "      <th>5</th>\n",
              "      <td>Capital Cargo International</td>\n",
              "      <td>2018</td>\n",
              "      <td>14.876462</td>\n",
              "      <td>625823.0</td>\n",
              "      <td>841.0</td>\n",
              "      <td>15.310871</td>\n",
              "      <td>640270.0</td>\n",
              "      <td>814.0</td>\n",
              "    </tr>\n",
              "    <tr>\n",
              "      <th>6</th>\n",
              "      <td>Comair Inc.</td>\n",
              "      <td>2018</td>\n",
              "      <td>12.776783</td>\n",
              "      <td>1452158.0</td>\n",
              "      <td>1121.0</td>\n",
              "      <td>12.789146</td>\n",
              "      <td>1447872.0</td>\n",
              "      <td>1110.0</td>\n",
              "    </tr>\n",
              "    <tr>\n",
              "      <th>7</th>\n",
              "      <td>Commutair Aka Champlain Enterprises, Inc.</td>\n",
              "      <td>2018</td>\n",
              "      <td>28.243923</td>\n",
              "      <td>1290832.0</td>\n",
              "      <td>1352.0</td>\n",
              "      <td>29.284076</td>\n",
              "      <td>1332689.0</td>\n",
              "      <td>1353.0</td>\n",
              "    </tr>\n",
              "    <tr>\n",
              "      <th>8</th>\n",
              "      <td>Compass Airlines</td>\n",
              "      <td>2018</td>\n",
              "      <td>14.060415</td>\n",
              "      <td>629302.0</td>\n",
              "      <td>2625.0</td>\n",
              "      <td>14.836996</td>\n",
              "      <td>662917.0</td>\n",
              "      <td>2635.0</td>\n",
              "    </tr>\n",
              "    <tr>\n",
              "      <th>9</th>\n",
              "      <td>Delta Air Lines Inc.</td>\n",
              "      <td>2018</td>\n",
              "      <td>8.538123</td>\n",
              "      <td>3924514.0</td>\n",
              "      <td>1207.0</td>\n",
              "      <td>8.368956</td>\n",
              "      <td>3840012.0</td>\n",
              "      <td>1206.0</td>\n",
              "    </tr>\n",
              "    <tr>\n",
              "      <th>10</th>\n",
              "      <td>Empire Airlines Inc.</td>\n",
              "      <td>2018</td>\n",
              "      <td>13.654324</td>\n",
              "      <td>115420.0</td>\n",
              "      <td>655.0</td>\n",
              "      <td>14.458483</td>\n",
              "      <td>120497.0</td>\n",
              "      <td>654.0</td>\n",
              "    </tr>\n",
              "    <tr>\n",
              "      <th>11</th>\n",
              "      <td>Endeavor Air Inc.</td>\n",
              "      <td>2018</td>\n",
              "      <td>13.952577</td>\n",
              "      <td>1629061.0</td>\n",
              "      <td>1921.0</td>\n",
              "      <td>14.456739</td>\n",
              "      <td>1691424.0</td>\n",
              "      <td>1916.0</td>\n",
              "    </tr>\n",
              "    <tr>\n",
              "      <th>12</th>\n",
              "      <td>Envoy Air</td>\n",
              "      <td>2018</td>\n",
              "      <td>10.910172</td>\n",
              "      <td>1353516.0</td>\n",
              "      <td>1163.0</td>\n",
              "      <td>12.531226</td>\n",
              "      <td>1546817.0</td>\n",
              "      <td>1152.0</td>\n",
              "    </tr>\n",
              "    <tr>\n",
              "      <th>13</th>\n",
              "      <td>ExpressJet Airlines Inc.</td>\n",
              "      <td>2018</td>\n",
              "      <td>16.544919</td>\n",
              "      <td>2689873.0</td>\n",
              "      <td>1522.0</td>\n",
              "      <td>17.858140</td>\n",
              "      <td>2892215.0</td>\n",
              "      <td>1553.0</td>\n",
              "    </tr>\n",
              "    <tr>\n",
              "      <th>14</th>\n",
              "      <td>Frontier Airlines Inc.</td>\n",
              "      <td>2018</td>\n",
              "      <td>23.029903</td>\n",
              "      <td>2711702.0</td>\n",
              "      <td>1254.0</td>\n",
              "      <td>22.355794</td>\n",
              "      <td>2627320.0</td>\n",
              "      <td>1253.0</td>\n",
              "    </tr>\n",
              "    <tr>\n",
              "      <th>15</th>\n",
              "      <td>GoJet Airlines, LLC d/b/a United Express</td>\n",
              "      <td>2018</td>\n",
              "      <td>16.427071</td>\n",
              "      <td>1029156.0</td>\n",
              "      <td>1545.0</td>\n",
              "      <td>16.987283</td>\n",
              "      <td>1060635.0</td>\n",
              "      <td>1543.0</td>\n",
              "    </tr>\n",
              "    <tr>\n",
              "      <th>16</th>\n",
              "      <td>Hawaiian Airlines Inc.</td>\n",
              "      <td>2018</td>\n",
              "      <td>5.011211</td>\n",
              "      <td>418366.0</td>\n",
              "      <td>2482.0</td>\n",
              "      <td>5.944504</td>\n",
              "      <td>495623.0</td>\n",
              "      <td>2475.0</td>\n",
              "    </tr>\n",
              "    <tr>\n",
              "      <th>17</th>\n",
              "      <td>Horizon Air</td>\n",
              "      <td>2018</td>\n",
              "      <td>7.285063</td>\n",
              "      <td>613854.0</td>\n",
              "      <td>640.0</td>\n",
              "      <td>8.279781</td>\n",
              "      <td>694980.0</td>\n",
              "      <td>642.0</td>\n",
              "    </tr>\n",
              "    <tr>\n",
              "      <th>18</th>\n",
              "      <td>JetBlue Airways</td>\n",
              "      <td>2018</td>\n",
              "      <td>19.670430</td>\n",
              "      <td>5876305.0</td>\n",
              "      <td>1489.0</td>\n",
              "      <td>19.820096</td>\n",
              "      <td>5901592.0</td>\n",
              "      <td>1473.0</td>\n",
              "    </tr>\n",
              "    <tr>\n",
              "      <th>19</th>\n",
              "      <td>Mesa Airlines Inc.</td>\n",
              "      <td>2018</td>\n",
              "      <td>15.128549</td>\n",
              "      <td>2274532.0</td>\n",
              "      <td>1789.0</td>\n",
              "      <td>16.418326</td>\n",
              "      <td>2460122.0</td>\n",
              "      <td>1773.0</td>\n",
              "    </tr>\n",
              "    <tr>\n",
              "      <th>20</th>\n",
              "      <td>Peninsula Airways Inc.</td>\n",
              "      <td>2018</td>\n",
              "      <td>14.184256</td>\n",
              "      <td>16397.0</td>\n",
              "      <td>470.0</td>\n",
              "      <td>15.569902</td>\n",
              "      <td>17485.0</td>\n",
              "      <td>437.0</td>\n",
              "    </tr>\n",
              "    <tr>\n",
              "      <th>21</th>\n",
              "      <td>Republic Airlines</td>\n",
              "      <td>2018</td>\n",
              "      <td>12.002701</td>\n",
              "      <td>2377663.0</td>\n",
              "      <td>1270.0</td>\n",
              "      <td>13.293485</td>\n",
              "      <td>2624772.0</td>\n",
              "      <td>1346.0</td>\n",
              "    </tr>\n",
              "    <tr>\n",
              "      <th>22</th>\n",
              "      <td>SkyWest Airlines Inc.</td>\n",
              "      <td>2018</td>\n",
              "      <td>14.514365</td>\n",
              "      <td>7611841.0</td>\n",
              "      <td>2098.0</td>\n",
              "      <td>15.656154</td>\n",
              "      <td>8173859.0</td>\n",
              "      <td>2108.0</td>\n",
              "    </tr>\n",
              "    <tr>\n",
              "      <th>23</th>\n",
              "      <td>Southwest Airlines Co.</td>\n",
              "      <td>2018</td>\n",
              "      <td>12.598293</td>\n",
              "      <td>16812158.0</td>\n",
              "      <td>713.0</td>\n",
              "      <td>11.119075</td>\n",
              "      <td>14806261.0</td>\n",
              "      <td>698.0</td>\n",
              "    </tr>\n",
              "    <tr>\n",
              "      <th>24</th>\n",
              "      <td>Spirit Air Lines</td>\n",
              "      <td>2018</td>\n",
              "      <td>13.666850</td>\n",
              "      <td>2385002.0</td>\n",
              "      <td>1527.0</td>\n",
              "      <td>14.241442</td>\n",
              "      <td>2479848.0</td>\n",
              "      <td>1527.0</td>\n",
              "    </tr>\n",
              "    <tr>\n",
              "      <th>25</th>\n",
              "      <td>Trans States Airlines</td>\n",
              "      <td>2018</td>\n",
              "      <td>21.379592</td>\n",
              "      <td>1389310.0</td>\n",
              "      <td>1519.0</td>\n",
              "      <td>22.335766</td>\n",
              "      <td>1444320.0</td>\n",
              "      <td>1537.0</td>\n",
              "    </tr>\n",
              "    <tr>\n",
              "      <th>26</th>\n",
              "      <td>United Air Lines Inc.</td>\n",
              "      <td>2018</td>\n",
              "      <td>13.614583</td>\n",
              "      <td>8398591.0</td>\n",
              "      <td>1431.0</td>\n",
              "      <td>14.477765</td>\n",
              "      <td>8902595.0</td>\n",
              "      <td>1429.0</td>\n",
              "    </tr>\n",
              "    <tr>\n",
              "      <th>27</th>\n",
              "      <td>Virgin America</td>\n",
              "      <td>2018</td>\n",
              "      <td>10.902274</td>\n",
              "      <td>187977.0</td>\n",
              "      <td>520.0</td>\n",
              "      <td>11.950971</td>\n",
              "      <td>204995.0</td>\n",
              "      <td>504.0</td>\n",
              "    </tr>\n",
              "  </tbody>\n",
              "</table>\n",
              "</div>\n",
              "    <div class=\"colab-df-buttons\">\n",
              "\n",
              "  <div class=\"colab-df-container\">\n",
              "    <button class=\"colab-df-convert\" onclick=\"convertToInteractive('df-9000b75c-1ef0-4bb1-a54f-4ad8d2dcf1bc')\"\n",
              "            title=\"Convert this dataframe to an interactive table.\"\n",
              "            style=\"display:none;\">\n",
              "\n",
              "  <svg xmlns=\"http://www.w3.org/2000/svg\" height=\"24px\" viewBox=\"0 -960 960 960\">\n",
              "    <path d=\"M120-120v-720h720v720H120Zm60-500h600v-160H180v160Zm220 220h160v-160H400v160Zm0 220h160v-160H400v160ZM180-400h160v-160H180v160Zm440 0h160v-160H620v160ZM180-180h160v-160H180v160Zm440 0h160v-160H620v160Z\"/>\n",
              "  </svg>\n",
              "    </button>\n",
              "\n",
              "  <style>\n",
              "    .colab-df-container {\n",
              "      display:flex;\n",
              "      gap: 12px;\n",
              "    }\n",
              "\n",
              "    .colab-df-convert {\n",
              "      background-color: #E8F0FE;\n",
              "      border: none;\n",
              "      border-radius: 50%;\n",
              "      cursor: pointer;\n",
              "      display: none;\n",
              "      fill: #1967D2;\n",
              "      height: 32px;\n",
              "      padding: 0 0 0 0;\n",
              "      width: 32px;\n",
              "    }\n",
              "\n",
              "    .colab-df-convert:hover {\n",
              "      background-color: #E2EBFA;\n",
              "      box-shadow: 0px 1px 2px rgba(60, 64, 67, 0.3), 0px 1px 3px 1px rgba(60, 64, 67, 0.15);\n",
              "      fill: #174EA6;\n",
              "    }\n",
              "\n",
              "    .colab-df-buttons div {\n",
              "      margin-bottom: 4px;\n",
              "    }\n",
              "\n",
              "    [theme=dark] .colab-df-convert {\n",
              "      background-color: #3B4455;\n",
              "      fill: #D2E3FC;\n",
              "    }\n",
              "\n",
              "    [theme=dark] .colab-df-convert:hover {\n",
              "      background-color: #434B5C;\n",
              "      box-shadow: 0px 1px 3px 1px rgba(0, 0, 0, 0.15);\n",
              "      filter: drop-shadow(0px 1px 2px rgba(0, 0, 0, 0.3));\n",
              "      fill: #FFFFFF;\n",
              "    }\n",
              "  </style>\n",
              "\n",
              "    <script>\n",
              "      const buttonEl =\n",
              "        document.querySelector('#df-9000b75c-1ef0-4bb1-a54f-4ad8d2dcf1bc button.colab-df-convert');\n",
              "      buttonEl.style.display =\n",
              "        google.colab.kernel.accessAllowed ? 'block' : 'none';\n",
              "\n",
              "      async function convertToInteractive(key) {\n",
              "        const element = document.querySelector('#df-9000b75c-1ef0-4bb1-a54f-4ad8d2dcf1bc');\n",
              "        const dataTable =\n",
              "          await google.colab.kernel.invokeFunction('convertToInteractive',\n",
              "                                                    [key], {});\n",
              "        if (!dataTable) return;\n",
              "\n",
              "        const docLinkHtml = 'Like what you see? Visit the ' +\n",
              "          '<a target=\"_blank\" href=https://colab.research.google.com/notebooks/data_table.ipynb>data table notebook</a>'\n",
              "          + ' to learn more about interactive tables.';\n",
              "        element.innerHTML = '';\n",
              "        dataTable['output_type'] = 'display_data';\n",
              "        await google.colab.output.renderOutput(dataTable, element);\n",
              "        const docLink = document.createElement('div');\n",
              "        docLink.innerHTML = docLinkHtml;\n",
              "        element.appendChild(docLink);\n",
              "      }\n",
              "    </script>\n",
              "  </div>\n",
              "\n",
              "\n",
              "<div id=\"df-1d472d5f-2a2b-47d9-bb30-dd083931c7fc\">\n",
              "  <button class=\"colab-df-quickchart\" onclick=\"quickchart('df-1d472d5f-2a2b-47d9-bb30-dd083931c7fc')\"\n",
              "            title=\"Suggest charts\"\n",
              "            style=\"display:none;\">\n",
              "\n",
              "<svg xmlns=\"http://www.w3.org/2000/svg\" height=\"24px\"viewBox=\"0 0 24 24\"\n",
              "     width=\"24px\">\n",
              "    <g>\n",
              "        <path d=\"M19 3H5c-1.1 0-2 .9-2 2v14c0 1.1.9 2 2 2h14c1.1 0 2-.9 2-2V5c0-1.1-.9-2-2-2zM9 17H7v-7h2v7zm4 0h-2V7h2v10zm4 0h-2v-4h2v4z\"/>\n",
              "    </g>\n",
              "</svg>\n",
              "  </button>\n",
              "\n",
              "<style>\n",
              "  .colab-df-quickchart {\n",
              "      --bg-color: #E8F0FE;\n",
              "      --fill-color: #1967D2;\n",
              "      --hover-bg-color: #E2EBFA;\n",
              "      --hover-fill-color: #174EA6;\n",
              "      --disabled-fill-color: #AAA;\n",
              "      --disabled-bg-color: #DDD;\n",
              "  }\n",
              "\n",
              "  [theme=dark] .colab-df-quickchart {\n",
              "      --bg-color: #3B4455;\n",
              "      --fill-color: #D2E3FC;\n",
              "      --hover-bg-color: #434B5C;\n",
              "      --hover-fill-color: #FFFFFF;\n",
              "      --disabled-bg-color: #3B4455;\n",
              "      --disabled-fill-color: #666;\n",
              "  }\n",
              "\n",
              "  .colab-df-quickchart {\n",
              "    background-color: var(--bg-color);\n",
              "    border: none;\n",
              "    border-radius: 50%;\n",
              "    cursor: pointer;\n",
              "    display: none;\n",
              "    fill: var(--fill-color);\n",
              "    height: 32px;\n",
              "    padding: 0;\n",
              "    width: 32px;\n",
              "  }\n",
              "\n",
              "  .colab-df-quickchart:hover {\n",
              "    background-color: var(--hover-bg-color);\n",
              "    box-shadow: 0 1px 2px rgba(60, 64, 67, 0.3), 0 1px 3px 1px rgba(60, 64, 67, 0.15);\n",
              "    fill: var(--button-hover-fill-color);\n",
              "  }\n",
              "\n",
              "  .colab-df-quickchart-complete:disabled,\n",
              "  .colab-df-quickchart-complete:disabled:hover {\n",
              "    background-color: var(--disabled-bg-color);\n",
              "    fill: var(--disabled-fill-color);\n",
              "    box-shadow: none;\n",
              "  }\n",
              "\n",
              "  .colab-df-spinner {\n",
              "    border: 2px solid var(--fill-color);\n",
              "    border-color: transparent;\n",
              "    border-bottom-color: var(--fill-color);\n",
              "    animation:\n",
              "      spin 1s steps(1) infinite;\n",
              "  }\n",
              "\n",
              "  @keyframes spin {\n",
              "    0% {\n",
              "      border-color: transparent;\n",
              "      border-bottom-color: var(--fill-color);\n",
              "      border-left-color: var(--fill-color);\n",
              "    }\n",
              "    20% {\n",
              "      border-color: transparent;\n",
              "      border-left-color: var(--fill-color);\n",
              "      border-top-color: var(--fill-color);\n",
              "    }\n",
              "    30% {\n",
              "      border-color: transparent;\n",
              "      border-left-color: var(--fill-color);\n",
              "      border-top-color: var(--fill-color);\n",
              "      border-right-color: var(--fill-color);\n",
              "    }\n",
              "    40% {\n",
              "      border-color: transparent;\n",
              "      border-right-color: var(--fill-color);\n",
              "      border-top-color: var(--fill-color);\n",
              "    }\n",
              "    60% {\n",
              "      border-color: transparent;\n",
              "      border-right-color: var(--fill-color);\n",
              "    }\n",
              "    80% {\n",
              "      border-color: transparent;\n",
              "      border-right-color: var(--fill-color);\n",
              "      border-bottom-color: var(--fill-color);\n",
              "    }\n",
              "    90% {\n",
              "      border-color: transparent;\n",
              "      border-bottom-color: var(--fill-color);\n",
              "    }\n",
              "  }\n",
              "</style>\n",
              "\n",
              "  <script>\n",
              "    async function quickchart(key) {\n",
              "      const quickchartButtonEl =\n",
              "        document.querySelector('#' + key + ' button');\n",
              "      quickchartButtonEl.disabled = true;  // To prevent multiple clicks.\n",
              "      quickchartButtonEl.classList.add('colab-df-spinner');\n",
              "      try {\n",
              "        const charts = await google.colab.kernel.invokeFunction(\n",
              "            'suggestCharts', [key], {});\n",
              "      } catch (error) {\n",
              "        console.error('Error during call to suggestCharts:', error);\n",
              "      }\n",
              "      quickchartButtonEl.classList.remove('colab-df-spinner');\n",
              "      quickchartButtonEl.classList.add('colab-df-quickchart-complete');\n",
              "    }\n",
              "    (() => {\n",
              "      let quickchartButtonEl =\n",
              "        document.querySelector('#df-1d472d5f-2a2b-47d9-bb30-dd083931c7fc button');\n",
              "      quickchartButtonEl.style.display =\n",
              "        google.colab.kernel.accessAllowed ? 'block' : 'none';\n",
              "    })();\n",
              "  </script>\n",
              "</div>\n",
              "\n",
              "    </div>\n",
              "  </div>\n"
            ],
            "application/vnd.google.colaboratory.intrinsic+json": {
              "type": "dataframe",
              "summary": "{\n  \"name\": \"pd\",\n  \"rows\": 28,\n  \"fields\": [\n    {\n      \"column\": [\n        \"Airline\",\n        \"\"\n      ],\n      \"properties\": {\n        \"dtype\": \"string\",\n        \"num_unique_values\": 28,\n        \"samples\": [\n          \"Delta Air Lines Inc.\",\n          \"Trans States Airlines\",\n          \"Compass Airlines\"\n        ],\n        \"semantic_type\": \"\",\n        \"description\": \"\"\n      }\n    },\n    {\n      \"column\": [\n        \"Year\",\n        \"\"\n      ],\n      \"properties\": {\n        \"dtype\": \"number\",\n        \"std\": 0,\n        \"min\": 2018,\n        \"max\": 2018,\n        \"num_unique_values\": 1,\n        \"samples\": [\n          2018\n        ],\n        \"semantic_type\": \"\",\n        \"description\": \"\"\n      }\n    },\n    {\n      \"column\": [\n        \"DepDelayMinutes\",\n        \"mean\"\n      ],\n      \"properties\": {\n        \"dtype\": \"number\",\n        \"std\": 5.149625806017066,\n        \"min\": 4.64376130198915,\n        \"max\": 28.24392271842111,\n        \"num_unique_values\": 28,\n        \"samples\": [\n          8.538122816254248\n        ],\n        \"semantic_type\": \"\",\n        \"description\": \"\"\n      }\n    },\n    {\n      \"column\": [\n        \"DepDelayMinutes\",\n        \"sum\"\n      ],\n      \"properties\": {\n        \"dtype\": \"number\",\n        \"std\": 3515467.3847176274,\n        \"min\": 7704.0,\n        \"max\": 16812158.0,\n        \"num_unique_values\": 28,\n        \"samples\": [\n          3924514.0\n        ],\n        \"semantic_type\": \"\",\n        \"description\": \"\"\n      }\n    },\n    {\n      \"column\": [\n        \"DepDelayMinutes\",\n        \"max\"\n      ],\n      \"properties\": {\n        \"dtype\": \"number\",\n        \"std\": 579.5024275117952,\n        \"min\": 430.0,\n        \"max\": 2625.0,\n        \"num_unique_values\": 28,\n        \"samples\": [\n          1207.0\n        ],\n        \"semantic_type\": \"\",\n        \"description\": \"\"\n      }\n    },\n    {\n      \"column\": [\n        \"ArrDelayMinutes\",\n        \"mean\"\n      ],\n      \"properties\": {\n        \"dtype\": \"number\",\n        \"std\": 5.1117511926817105,\n        \"min\": 5.390332326283988,\n        \"max\": 29.28407567733855,\n        \"num_unique_values\": 28,\n        \"samples\": [\n          8.368956498997472\n        ],\n        \"semantic_type\": \"\",\n        \"description\": \"\"\n      }\n    },\n    {\n      \"column\": [\n        \"ArrDelayMinutes\",\n        \"sum\"\n      ],\n      \"properties\": {\n        \"dtype\": \"number\",\n        \"std\": 3287387.026846333,\n        \"min\": 8921.0,\n        \"max\": 14806261.0,\n        \"num_unique_values\": 28,\n        \"samples\": [\n          3840012.0\n        ],\n        \"semantic_type\": \"\",\n        \"description\": \"\"\n      }\n    },\n    {\n      \"column\": [\n        \"ArrDelayMinutes\",\n        \"max\"\n      ],\n      \"properties\": {\n        \"dtype\": \"number\",\n        \"std\": 586.0167305338719,\n        \"min\": 437.0,\n        \"max\": 2635.0,\n        \"num_unique_values\": 28,\n        \"samples\": [\n          1206.0\n        ],\n        \"semantic_type\": \"\",\n        \"description\": \"\"\n      }\n    }\n  ]\n}"
            }
          },
          "metadata": {},
          "execution_count": 24
        }
      ],
      "source": [
        "pd.read_parquet('temp_pandas.parquet')"
      ]
    },
    {
      "cell_type": "code",
      "source": [
        "pd.read_parquet('temp_pandas.parquet').info()"
      ],
      "metadata": {
        "colab": {
          "base_uri": "https://localhost:8080/"
        },
        "id": "N-HI3Ir2Ovad",
        "outputId": "3cc77091-e129-4051-ab72-fc42754db243"
      },
      "execution_count": 21,
      "outputs": [
        {
          "output_type": "stream",
          "name": "stdout",
          "text": [
            "<class 'pandas.core.frame.DataFrame'>\n",
            "RangeIndex: 28 entries, 0 to 27\n",
            "Data columns (total 8 columns):\n",
            " #   Column                   Non-Null Count  Dtype  \n",
            "---  ------                   --------------  -----  \n",
            " 0   (Airline, )              28 non-null     object \n",
            " 1   (Year, )                 28 non-null     int64  \n",
            " 2   (DepDelayMinutes, mean)  28 non-null     float64\n",
            " 3   (DepDelayMinutes, sum)   28 non-null     float64\n",
            " 4   (DepDelayMinutes, max)   28 non-null     float64\n",
            " 5   (ArrDelayMinutes, mean)  28 non-null     float64\n",
            " 6   (ArrDelayMinutes, sum)   28 non-null     float64\n",
            " 7   (ArrDelayMinutes, max)   28 non-null     float64\n",
            "dtypes: float64(6), int64(1), object(1)\n",
            "memory usage: 1.9+ KB\n"
          ]
        }
      ]
    },
    {
      "cell_type": "markdown",
      "metadata": {
        "id": "HE9EI1NLBLtT"
      },
      "source": [
        "## Playing with Polars"
      ]
    },
    {
      "cell_type": "code",
      "execution_count": 10,
      "metadata": {
        "id": "o-ICGOARBMWp"
      },
      "outputs": [],
      "source": [
        "import polars as pl"
      ]
    },
    {
      "cell_type": "code",
      "execution_count": 11,
      "metadata": {
        "id": "8QiIC2snMFgY"
      },
      "outputs": [],
      "source": [
        "flights_file1 = \"/content/drive/MyDrive/data/flights/Combined_Flights_2018.parquet\"\n",
        "flights_file2 = \"/content/drive/MyDrive/data/flights/Combined_Flights_2019.parquet\"\n",
        "flights_file3 = \"/content/drive/MyDrive/data/flights/Combined_Flights_2020.parquet\"\n",
        "flights_file4 = \"/content/drive/MyDrive/data/flights/Combined_Flights_2021.parquet\"\n",
        "flights_file5 = \"/content/drive/MyDrive/data/flights/Combined_Flights_2022.parquet\"\n",
        "df1 = pl.scan_parquet(flights_file1)\n",
        "df2 = pl.scan_parquet(flights_file2)\n",
        "df3 = pl.scan_parquet(flights_file3)\n",
        "df4 = pl.scan_parquet(flights_file4)\n",
        "df5 = pl.scan_parquet(flights_file5)"
      ]
    },
    {
      "cell_type": "code",
      "execution_count": 14,
      "metadata": {
        "colab": {
          "base_uri": "https://localhost:8080/"
        },
        "id": "szmAqqA9oriG",
        "outputId": "3e818495-2fdf-4a2c-bcad-968b9840598c"
      },
      "outputs": [
        {
          "output_type": "stream",
          "name": "stderr",
          "text": [
            "<ipython-input-14-aead953ac087>:5: DeprecationWarning: `groupby` is deprecated. It has been renamed to `group_by`.\n",
            "  .groupby(['Airline', 'Year'])\n"
          ]
        }
      ],
      "source": [
        " #%%timeit\n",
        "\n",
        "df_polars = (\n",
        "    pl.concat([df1, df2, df3, df4, df5])\n",
        "    .groupby(['Airline', 'Year'])\n",
        "    .agg([\n",
        "        pl.col(\"DepDelayMinutes\").mean().alias(\"avg_dep_delay\"),\n",
        "        pl.col(\"DepDelayMinutes\").sum().alias(\"sum_dep_delay\"),\n",
        "        pl.col(\"DepDelayMinutes\").max().alias(\"max_dep_delay\"),\n",
        "        pl.col(\"ArrDelayMinutes\").mean().alias(\"avg_arr_delay\"),\n",
        "        pl.col(\"ArrDelayMinutes\").sum().alias(\"sum_arr_delay\"),\n",
        "        pl.col(\"ArrDelayMinutes\").max().alias(\"max_arr_delay\"),\n",
        "      ])\n",
        ").collect()\n",
        "\n",
        "df_polars.write_parquet('temp_polars.parquet')"
      ]
    },
    {
      "cell_type": "code",
      "execution_count": 15,
      "metadata": {
        "colab": {
          "base_uri": "https://localhost:8080/"
        },
        "id": "ILHEl0a7LrFK",
        "outputId": "afe5b0fc-5ff9-4104-d52f-34ff1e2f3a15"
      },
      "outputs": [
        {
          "output_type": "stream",
          "name": "stdout",
          "text": [
            "12K -rw-r--r-- 1 root 8.1K Jul  3 00:24 temp_polars.parquet\n"
          ]
        }
      ],
      "source": [
        "!ls -GFlash temp_polars.parquet"
      ]
    },
    {
      "cell_type": "code",
      "source": [
        "pl.read_parquet('temp_pandas.parquet')"
      ],
      "metadata": {
        "colab": {
          "base_uri": "https://localhost:8080/",
          "height": 1000
        },
        "id": "bVtc9Hz--1hU",
        "outputId": "97d64c94-2641-47b7-adf8-830ec8894474"
      },
      "execution_count": 22,
      "outputs": [
        {
          "output_type": "execute_result",
          "data": {
            "text/plain": [
              "shape: (28, 8)\n",
              "┌────────────┬────────────┬────────────┬───────────┬───────────┬───────────┬───────────┬───────────┐\n",
              "│ ('Airline' ┆ ('Year',   ┆ ('DepDelay ┆ ('DepDela ┆ ('DepDela ┆ ('ArrDela ┆ ('ArrDela ┆ ('ArrDela │\n",
              "│ , '')      ┆ '')        ┆ Minutes',  ┆ yMinutes' ┆ yMinutes' ┆ yMinutes' ┆ yMinutes' ┆ yMinutes' │\n",
              "│ ---        ┆ ---        ┆ 'mean')    ┆ , 'sum')  ┆ , 'max')  ┆ , 'mean') ┆ , 'sum')  ┆ , 'max')  │\n",
              "│ str        ┆ i64        ┆ ---        ┆ ---       ┆ ---       ┆ ---       ┆ ---       ┆ ---       │\n",
              "│            ┆            ┆ f64        ┆ f64       ┆ f64       ┆ f64       ┆ f64       ┆ f64       │\n",
              "╞════════════╪════════════╪════════════╪═══════════╪═══════════╪═══════════╪═══════════╪═══════════╡\n",
              "│ Air        ┆ 2018       ┆ 16.753459  ┆ 1.606774e ┆ 1296.0    ┆ 17.881934 ┆ 1.708887e ┆ 1292.0    │\n",
              "│ Wisconsin  ┆            ┆            ┆ 6         ┆           ┆           ┆ 6         ┆           │\n",
              "│ Airlines   ┆            ┆            ┆           ┆           ┆           ┆           ┆           │\n",
              "│ Corp       ┆            ┆            ┆           ┆           ┆           ┆           ┆           │\n",
              "│ Alaska     ┆ 2018       ┆ 7.503389   ┆ 1.374801e ┆ 839.0     ┆ 8.759125  ┆ 1.600336e ┆ 842.0     │\n",
              "│ Airlines   ┆            ┆            ┆ 6         ┆           ┆           ┆ 6         ┆           │\n",
              "│ Inc.       ┆            ┆            ┆           ┆           ┆           ┆           ┆           │\n",
              "│ Allegiant  ┆ 2018       ┆ 17.080944  ┆ 1.630769e ┆ 1462.0    ┆ 17.547588 ┆ 1.67039e6 ┆ 1505.0    │\n",
              "│ Air        ┆            ┆            ┆ 6         ┆           ┆           ┆           ┆           │\n",
              "│ American   ┆ 2018       ┆ 13.141112  ┆ 4.993399e ┆ 2109.0    ┆ 14.225643 ┆ 5.387564e ┆ 2153.0    │\n",
              "│ Airlines   ┆            ┆            ┆ 6         ┆           ┆           ┆ 6         ┆           │\n",
              "│ Inc.       ┆            ┆            ┆           ┆           ┆           ┆           ┆           │\n",
              "│ …          ┆ …          ┆ …          ┆ …         ┆ …         ┆ …         ┆ …         ┆ …         │\n",
              "│ Spirit Air ┆ 2018       ┆ 13.66685   ┆ 2.385002e ┆ 1527.0    ┆ 14.241442 ┆ 2.479848e ┆ 1527.0    │\n",
              "│ Lines      ┆            ┆            ┆ 6         ┆           ┆           ┆ 6         ┆           │\n",
              "│ Trans      ┆ 2018       ┆ 21.379592  ┆ 1.38931e6 ┆ 1519.0    ┆ 22.335766 ┆ 1.44432e6 ┆ 1537.0    │\n",
              "│ States     ┆            ┆            ┆           ┆           ┆           ┆           ┆           │\n",
              "│ Airlines   ┆            ┆            ┆           ┆           ┆           ┆           ┆           │\n",
              "│ United Air ┆ 2018       ┆ 13.614583  ┆ 8.398591e ┆ 1431.0    ┆ 14.477765 ┆ 8.902595e ┆ 1429.0    │\n",
              "│ Lines Inc. ┆            ┆            ┆ 6         ┆           ┆           ┆ 6         ┆           │\n",
              "│ Virgin     ┆ 2018       ┆ 10.902274  ┆ 187977.0  ┆ 520.0     ┆ 11.950971 ┆ 204995.0  ┆ 504.0     │\n",
              "│ America    ┆            ┆            ┆           ┆           ┆           ┆           ┆           │\n",
              "└────────────┴────────────┴────────────┴───────────┴───────────┴───────────┴───────────┴───────────┘"
            ],
            "text/html": [
              "<div><style>\n",
              ".dataframe > thead > tr,\n",
              ".dataframe > tbody > tr {\n",
              "  text-align: right;\n",
              "  white-space: pre-wrap;\n",
              "}\n",
              "</style>\n",
              "<small>shape: (28, 8)</small><table border=\"1\" class=\"dataframe\"><thead><tr><th>(&#x27;Airline&#x27;, &#x27;&#x27;)</th><th>(&#x27;Year&#x27;, &#x27;&#x27;)</th><th>(&#x27;DepDelayMinutes&#x27;, &#x27;mean&#x27;)</th><th>(&#x27;DepDelayMinutes&#x27;, &#x27;sum&#x27;)</th><th>(&#x27;DepDelayMinutes&#x27;, &#x27;max&#x27;)</th><th>(&#x27;ArrDelayMinutes&#x27;, &#x27;mean&#x27;)</th><th>(&#x27;ArrDelayMinutes&#x27;, &#x27;sum&#x27;)</th><th>(&#x27;ArrDelayMinutes&#x27;, &#x27;max&#x27;)</th></tr><tr><td>str</td><td>i64</td><td>f64</td><td>f64</td><td>f64</td><td>f64</td><td>f64</td><td>f64</td></tr></thead><tbody><tr><td>&quot;Air Wisconsin …</td><td>2018</td><td>16.753459</td><td>1.606774e6</td><td>1296.0</td><td>17.881934</td><td>1.708887e6</td><td>1292.0</td></tr><tr><td>&quot;Alaska Airline…</td><td>2018</td><td>7.503389</td><td>1.374801e6</td><td>839.0</td><td>8.759125</td><td>1.600336e6</td><td>842.0</td></tr><tr><td>&quot;Allegiant Air&quot;</td><td>2018</td><td>17.080944</td><td>1.630769e6</td><td>1462.0</td><td>17.547588</td><td>1.67039e6</td><td>1505.0</td></tr><tr><td>&quot;American Airli…</td><td>2018</td><td>13.141112</td><td>4.993399e6</td><td>2109.0</td><td>14.225643</td><td>5.387564e6</td><td>2153.0</td></tr><tr><td>&quot;Cape Air&quot;</td><td>2018</td><td>4.643761</td><td>7704.0</td><td>430.0</td><td>5.390332</td><td>8921.0</td><td>446.0</td></tr><tr><td>&quot;Capital Cargo …</td><td>2018</td><td>14.876462</td><td>625823.0</td><td>841.0</td><td>15.310871</td><td>640270.0</td><td>814.0</td></tr><tr><td>&quot;Comair Inc.&quot;</td><td>2018</td><td>12.776783</td><td>1.452158e6</td><td>1121.0</td><td>12.789146</td><td>1.447872e6</td><td>1110.0</td></tr><tr><td>&quot;Commutair Aka …</td><td>2018</td><td>28.243923</td><td>1.290832e6</td><td>1352.0</td><td>29.284076</td><td>1.332689e6</td><td>1353.0</td></tr><tr><td>&quot;Compass Airlin…</td><td>2018</td><td>14.060415</td><td>629302.0</td><td>2625.0</td><td>14.836996</td><td>662917.0</td><td>2635.0</td></tr><tr><td>&quot;Delta Air Line…</td><td>2018</td><td>8.538123</td><td>3.924514e6</td><td>1207.0</td><td>8.368956</td><td>3.840012e6</td><td>1206.0</td></tr><tr><td>&quot;Empire Airline…</td><td>2018</td><td>13.654324</td><td>115420.0</td><td>655.0</td><td>14.458483</td><td>120497.0</td><td>654.0</td></tr><tr><td>&quot;Endeavor Air I…</td><td>2018</td><td>13.952577</td><td>1.629061e6</td><td>1921.0</td><td>14.456739</td><td>1.691424e6</td><td>1916.0</td></tr><tr><td>&hellip;</td><td>&hellip;</td><td>&hellip;</td><td>&hellip;</td><td>&hellip;</td><td>&hellip;</td><td>&hellip;</td><td>&hellip;</td></tr><tr><td>&quot;Hawaiian Airli…</td><td>2018</td><td>5.011211</td><td>418366.0</td><td>2482.0</td><td>5.944504</td><td>495623.0</td><td>2475.0</td></tr><tr><td>&quot;Horizon Air&quot;</td><td>2018</td><td>7.285063</td><td>613854.0</td><td>640.0</td><td>8.279781</td><td>694980.0</td><td>642.0</td></tr><tr><td>&quot;JetBlue Airway…</td><td>2018</td><td>19.67043</td><td>5.876305e6</td><td>1489.0</td><td>19.820096</td><td>5.901592e6</td><td>1473.0</td></tr><tr><td>&quot;Mesa Airlines …</td><td>2018</td><td>15.128549</td><td>2.274532e6</td><td>1789.0</td><td>16.418326</td><td>2.460122e6</td><td>1773.0</td></tr><tr><td>&quot;Peninsula Airw…</td><td>2018</td><td>14.184256</td><td>16397.0</td><td>470.0</td><td>15.569902</td><td>17485.0</td><td>437.0</td></tr><tr><td>&quot;Republic Airli…</td><td>2018</td><td>12.002701</td><td>2.377663e6</td><td>1270.0</td><td>13.293485</td><td>2.624772e6</td><td>1346.0</td></tr><tr><td>&quot;SkyWest Airlin…</td><td>2018</td><td>14.514365</td><td>7.611841e6</td><td>2098.0</td><td>15.656154</td><td>8.173859e6</td><td>2108.0</td></tr><tr><td>&quot;Southwest Airl…</td><td>2018</td><td>12.598293</td><td>1.6812158e7</td><td>713.0</td><td>11.119075</td><td>1.4806261e7</td><td>698.0</td></tr><tr><td>&quot;Spirit Air Lin…</td><td>2018</td><td>13.66685</td><td>2.385002e6</td><td>1527.0</td><td>14.241442</td><td>2.479848e6</td><td>1527.0</td></tr><tr><td>&quot;Trans States A…</td><td>2018</td><td>21.379592</td><td>1.38931e6</td><td>1519.0</td><td>22.335766</td><td>1.44432e6</td><td>1537.0</td></tr><tr><td>&quot;United Air Lin…</td><td>2018</td><td>13.614583</td><td>8.398591e6</td><td>1431.0</td><td>14.477765</td><td>8.902595e6</td><td>1429.0</td></tr><tr><td>&quot;Virgin America…</td><td>2018</td><td>10.902274</td><td>187977.0</td><td>520.0</td><td>11.950971</td><td>204995.0</td><td>504.0</td></tr></tbody></table></div>"
            ]
          },
          "metadata": {},
          "execution_count": 22
        }
      ]
    },
    {
      "cell_type": "markdown",
      "metadata": {
        "id": "q18Ab20QtZuk"
      },
      "source": [
        "## Playing with PySpark"
      ]
    },
    {
      "cell_type": "code",
      "execution_count": 25,
      "metadata": {
        "colab": {
          "base_uri": "https://localhost:8080/"
        },
        "id": "YGZSQ1f7CuIk",
        "outputId": "7479c8da-851c-4e05-d0e2-090ffc200821"
      },
      "outputs": [
        {
          "output_type": "stream",
          "name": "stdout",
          "text": [
            "Collecting pyspark\n",
            "  Downloading pyspark-3.5.1.tar.gz (317.0 MB)\n",
            "\u001b[2K     \u001b[90m━━━━━━━━━━━━━━━━━━━━━━━━━━━━━━━━━━━━━━━━\u001b[0m \u001b[32m317.0/317.0 MB\u001b[0m \u001b[31m3.0 MB/s\u001b[0m eta \u001b[36m0:00:00\u001b[0m\n",
            "\u001b[?25h  Preparing metadata (setup.py) ... \u001b[?25l\u001b[?25hdone\n",
            "Requirement already satisfied: py4j==0.10.9.7 in /usr/local/lib/python3.10/dist-packages (from pyspark) (0.10.9.7)\n",
            "Building wheels for collected packages: pyspark\n",
            "  Building wheel for pyspark (setup.py) ... \u001b[?25l\u001b[?25hdone\n",
            "  Created wheel for pyspark: filename=pyspark-3.5.1-py2.py3-none-any.whl size=317488491 sha256=b2fa4eb6f4adf58bd823003588b2581e5f3e7bebf0cc2d972af0f89f49f2b55c\n",
            "  Stored in directory: /root/.cache/pip/wheels/80/1d/60/2c256ed38dddce2fdd93be545214a63e02fbd8d74fb0b7f3a6\n",
            "Successfully built pyspark\n",
            "Installing collected packages: pyspark\n",
            "Successfully installed pyspark-3.5.1\n"
          ]
        }
      ],
      "source": [
        "!pip install pyspark"
      ]
    },
    {
      "cell_type": "code",
      "execution_count": null,
      "metadata": {
        "id": "Nj7EkKhiqCx5"
      },
      "outputs": [],
      "source": [
        "from pyspark.sql import SparkSession\n",
        "from pyspark.sql.functions import avg, max, sum, concat"
      ]
    },
    {
      "cell_type": "code",
      "execution_count": null,
      "metadata": {
        "id": "Bt7X5e0RtXwL"
      },
      "outputs": [],
      "source": [
        "spark = SparkSession.builder.master(\"local[1]\").appName(\"airline-example\").getOrCreate()"
      ]
    },
    {
      "cell_type": "code",
      "execution_count": null,
      "metadata": {
        "id": "zDVr-FSK0NDz"
      },
      "outputs": [],
      "source": [
        "flights_file1 = \"/content/drive/MyDrive/data/flights/Combined_Flights_2018.parquet\"\n",
        "flights_file2 = \"/content/drive/MyDrive/data/flights/Combined_Flights_2019.parquet\"\n",
        "flights_file3 = \"/content/drive/MyDrive/data/flights/Combined_Flights_2020.parquet\"\n",
        "flights_file4 = \"/content/drive/MyDrive/data/flights/Combined_Flights_2021.parquet\"\n",
        "flights_file5 = \"/content/drive/MyDrive/data/flights/Combined_Flights_2022.parquet\""
      ]
    },
    {
      "cell_type": "code",
      "execution_count": null,
      "metadata": {
        "id": "pyOR3XRj78kl"
      },
      "outputs": [],
      "source": [
        "df_spark1 = spark.read.parquet(flights_file1)\n",
        "df_spark2 = spark.read.parquet(flights_file2)\n",
        "df_spark3 = spark.read.parquet(flights_file3)\n",
        "df_spark4 = spark.read.parquet(flights_file4)\n",
        "df_spark5 = spark.read.parquet(flights_file5)"
      ]
    },
    {
      "cell_type": "code",
      "execution_count": null,
      "metadata": {
        "id": "csm8vFBq8GJ1"
      },
      "outputs": [],
      "source": [
        "df_spark = df_spark1.union(df_spark2)\n",
        "df_spark = df_spark.union(df_spark3)\n",
        "df_spark = df_spark.union(df_spark4)\n",
        "df_spark = df_spark.union(df_spark5)"
      ]
    },
    {
      "cell_type": "code",
      "execution_count": null,
      "metadata": {
        "id": "sjzLE2Ek4VX0"
      },
      "outputs": [],
      "source": [
        " %%timeit\n",
        "\n",
        "df_spark_agg = df_spark.groupby(\"Airline\", \"Year\").agg(\n",
        "    avg(\"ArrDelayMinutes\").alias('avg_arr_delay'),\n",
        "    sum(\"ArrDelayMinutes\").alias('sum_arr_delay'),\n",
        "    max(\"ArrDelayMinutes\").alias('max_arr_delay'),\n",
        "    avg(\"DepDelayMinutes\").alias('avg_dep_delay'),\n",
        "    sum(\"DepDelayMinutes\").alias('sum_dep_delay'),\n",
        "    max(\"DepDelayMinutes\").alias('max_dep_delay'),\n",
        ")\n",
        "df_spark_agg.write.mode('overwrite').parquet('temp_spark.parquet')"
      ]
    },
    {
      "cell_type": "code",
      "execution_count": null,
      "metadata": {
        "id": "XPPoeSYZ_d9A"
      },
      "outputs": [],
      "source": [
        "!ls -GFlash temp_pyspark.parquet"
      ]
    },
    {
      "cell_type": "markdown",
      "metadata": {
        "id": "zOsqlhgZa4ym"
      },
      "source": [
        "## Playing with dask"
      ]
    },
    {
      "cell_type": "code",
      "execution_count": null,
      "metadata": {
        "id": "b0Jo8Yv3a-at"
      },
      "outputs": [],
      "source": [
        "import pandas as pd\n",
        "import dask.dataframe as dd\n",
        "# flights_file1 = \"/content/drive/MyDrive/data/flights/Combined_Flights_2018.parquet\"\n",
        "# flights_file2 = \"/content/drive/MyDrive/data/flights/Combined_Flights_2019.parquet\"\n",
        "flights_file3 = \"/content/drive/MyDrive/data/flights/Combined_Flights_2020.parquet\"\n",
        "# flights_file4 = \"/content/drive/MyDrive/data/flights/Combined_Flights_2021.parquet\"\n",
        "flights_file5 = \"/content/drive/MyDrive/data/flights/Combined_Flights_2022.parquet\"\n",
        "# df1 = dd.read_parquet(flights_file1)\n",
        "# df2 = dd.read_parquet(flights_file2)\n",
        "df3 = dd.read_parquet(flights_file3)\n",
        "# df4 = dd.read_parquet(flights_file4)\n",
        "df5 = dd.read_parquet(flights_file5)"
      ]
    },
    {
      "cell_type": "code",
      "execution_count": null,
      "metadata": {
        "id": "xO9JqZWPbMXU"
      },
      "outputs": [],
      "source": [
        "df = dd.concat([df3, df5])"
      ]
    },
    {
      "cell_type": "code",
      "execution_count": null,
      "metadata": {
        "id": "GId3fTGsbcwd"
      },
      "outputs": [],
      "source": [
        "print(df.compute())"
      ]
    },
    {
      "cell_type": "code",
      "execution_count": null,
      "metadata": {
        "id": "ush5yY-cfdNh"
      },
      "outputs": [],
      "source": [
        "df = df.compute()"
      ]
    },
    {
      "cell_type": "code",
      "execution_count": null,
      "metadata": {
        "id": "mQ0sNsonboJ3"
      },
      "outputs": [],
      "source": [
        "# %%timeit\n",
        "\n",
        "df_agg = df.groupby(['Airline','Year'])[[\"DepDelayMinutes\", \"ArrDelayMinutes\"]].agg(\n",
        "    [\"mean\", \"sum\", \"max\"]\n",
        ")\n",
        "df_agg = df_agg.reset_index()\n",
        "df_agg.to_parquet(\"temp_dask.parquet\")"
      ]
    },
    {
      "cell_type": "code",
      "execution_count": null,
      "metadata": {
        "id": "nuUMEqtlfvNQ"
      },
      "outputs": [],
      "source": [
        "!ls -GFlash temp_pandas.parquet"
      ]
    },
    {
      "cell_type": "code",
      "execution_count": null,
      "metadata": {
        "id": "9oQc1A7kf2n3"
      },
      "outputs": [],
      "source": [
        "pd.read_parquet('temp_dask.parquet').info()"
      ]
    },
    {
      "cell_type": "code",
      "source": [
        "pd.read_parquet('temp_dask.parquet')"
      ],
      "metadata": {
        "id": "fsZQ_0czOB8H"
      },
      "execution_count": null,
      "outputs": []
    },
    {
      "cell_type": "markdown",
      "metadata": {
        "id": "a9sBWLJoAl8G"
      },
      "source": [
        "## Read Results"
      ]
    },
    {
      "cell_type": "code",
      "execution_count": null,
      "metadata": {
        "id": "wJ9t6MyjAkeH"
      },
      "outputs": [],
      "source": [
        "import pandas as pd"
      ]
    },
    {
      "cell_type": "code",
      "execution_count": null,
      "metadata": {
        "id": "QO-xgM-AAt_C"
      },
      "outputs": [],
      "source": [
        "agg_pandas = pd.read_parquet('temp_pandas.parquet')\n",
        "agg_polars = pd.read_parquet('temp_polars.parquet')\n",
        "agg_spark = pd.read_parquet('temp_spark.parquet')\n",
        "agg_dask = pd.read_parquet('temp_dask.parquet')"
      ]
    },
    {
      "cell_type": "code",
      "source": [
        "agg_pandas.shape, agg_polars.shape, agg_spark.shape, agg_dask.shape"
      ],
      "metadata": {
        "id": "2EvukOhTP1Gd"
      },
      "execution_count": null,
      "outputs": []
    },
    {
      "cell_type": "code",
      "source": [
        "agg_pandas.sort_values(['Airline','Year']).head()"
      ],
      "metadata": {
        "id": "gKRlZewAUTdV"
      },
      "execution_count": null,
      "outputs": []
    },
    {
      "cell_type": "code",
      "source": [
        "agg_polars.sort_values(['Airline','Year']).head()"
      ],
      "metadata": {
        "id": "FGnPt7H9UoFP"
      },
      "execution_count": null,
      "outputs": []
    },
    {
      "cell_type": "code",
      "source": [
        "agg_spark.sort_values(['Airline','Year']).head()"
      ],
      "metadata": {
        "id": "2gaI1GbRUqqt"
      },
      "execution_count": null,
      "outputs": []
    },
    {
      "cell_type": "code",
      "source": [
        "agg_dask.sort_values(['Airline','Year']).head()"
      ],
      "metadata": {
        "id": "YI4dyRM0Uu9F"
      },
      "execution_count": null,
      "outputs": []
    }
  ],
  "metadata": {
    "colab": {
      "provenance": [],
      "collapsed_sections": [
        "HE9EI1NLBLtT"
      ],
      "include_colab_link": true
    },
    "kernelspec": {
      "display_name": "Python 3",
      "name": "python3"
    },
    "language_info": {
      "name": "python"
    }
  },
  "nbformat": 4,
  "nbformat_minor": 0
}